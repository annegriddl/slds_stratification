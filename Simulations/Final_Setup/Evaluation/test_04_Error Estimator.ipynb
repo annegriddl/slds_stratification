# Test for df_rf
assert not any(df_rf['diff_sd'] < 0), "Test failed for df_rf"

# Test for df_xgb
assert not any(df_xgb['diff_sd'] < 0), "Test failed for df_xgb"