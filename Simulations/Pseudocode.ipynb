{
 "cells": [
  {
   "cell_type": "markdown",
   "metadata": {},
   "source": [
    "### Pseudocode for stratification in cross-validation"
   ]
  },
  {
   "cell_type": "markdown",
   "metadata": {},
   "source": [
    "Function: create_cont_folds\n",
    "Inputs:\n",
    "  - y: Target variable\n",
    "  - n_folds: Number of folds for cross-validation (default: 5)\n",
    "  - n_groups: Number of groups for quantile-based discretization (default: 5)\n",
    "  - seed: Random seed for reproducibility (default: 1)\n",
    "\n",
    "Steps:\n",
    "\n",
    "Quantile-based discretization\n",
    "\n",
    "1. Create groups in y using pd.qcut based on a selected number of bins representing quantiles.\n",
    "\n",
    "Indexation of the train and validation split:\n",
    "\n",
    "2. Create StratifiedKFold object (skf) with n_splits equal to the number of folds\n",
    "3. Assign a fold number to each data point based on its group in the quantile-based discretization. This creates the validation set for each fold.\n",
    "\n",
    "4. Loop over each fold:\n",
    "   a. Get test indices of the current fold indices.\n",
    "   b. Get train indices as the complement of test indices.\n",
    "   c. Append a tuple (train_indices, test_indices) to cv_splits.\n",
    "\n",
    "5. Return cv_splits wich gives all indexes of the train and validation for each fold"
   ]
  },
  {
   "cell_type": "markdown",
   "metadata": {},
   "source": [
    "### Pseudocode for stratification in train/test split"
   ]
  },
  {
   "cell_type": "markdown",
   "metadata": {},
   "source": [
    "Function: train_test_stratified\n",
    "Inputs:\n",
    "  - df: DataFrame containing the data\n",
    "  - n_quantiles: Number of quantiles to divide the data into (default: 20)\n",
    "  - train_size: Proportion of data to use for training (default: 0.8)\n",
    "  - seed: Random seed for reproducibility (default: 42)\n",
    "\n",
    "Steps:\n",
    "\n",
    "1. Quantile-based discretization: Create groups in y using pd.qcut based on a selected number of bins representing quantiles.\n",
    "\n",
    "2. Loop over each unique quantile label:\n",
    "     a. Get the group of data points corresponding to the current quantile label.\n",
    "     b. Randomly sample a selected train size proportion of data points from the current group.\n",
    "     c. Append the sampled data points to the 'train_data' DataFrame.\n",
    "\n",
    "3. Get test data as the complement of train data.\n",
    "\n",
    "4. Shuffle the rows of the train test data DataFrames.\n",
    "\n",
    "5. Return the feature and target variables for training and testing: X_train, X_test, y_train, y_test.\n"
   ]
  },
  {
   "cell_type": "markdown",
   "metadata": {},
   "source": []
  }
 ],
 "metadata": {
  "kernelspec": {
   "display_name": "slds",
   "language": "python",
   "name": "python3"
  },
  "language_info": {
   "codemirror_mode": {
    "name": "ipython",
    "version": 3
   },
   "file_extension": ".py",
   "mimetype": "text/x-python",
   "name": "python",
   "nbconvert_exporter": "python",
   "pygments_lexer": "ipython3",
   "version": "3.12.0"
  }
 },
 "nbformat": 4,
 "nbformat_minor": 2
}
