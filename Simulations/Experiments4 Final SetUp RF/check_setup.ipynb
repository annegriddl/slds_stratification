{
 "cells": [
  {
   "cell_type": "code",
   "execution_count": 140,
   "metadata": {},
   "outputs": [],
   "source": [
    "import pandas as pd\n",
    "import numpy as np\n",
    "from sklearn.model_selection import cross_val_score, train_test_split, RandomizedSearchCV, KFold, StratifiedKFold\n",
    "from sklearn.ensemble import RandomForestRegressor\n",
    "from sklearn.metrics import mean_squared_error, mean_absolute_error\n",
    "from sklearn.datasets import make_friedman1\n",
    "from sklearn.model_selection import StratifiedKFold\n",
    "from sklearn.utils import shuffle\n",
    "import json\n",
    "from sklearn.dummy import DummyRegressor\n",
    "import seaborn as sns\n",
    "import matplotlib.pyplot as plt\n",
    "from mpl_toolkits.mplot3d import Axes3D\n",
    "import warnings\n",
    "warnings.filterwarnings('ignore')\n",
    "from utils import FriedmanDataset, run_kfold_visualizer, ModelOptimizerFinal "
   ]
  },
  {
   "cell_type": "code",
   "execution_count": 141,
   "metadata": {},
   "outputs": [],
   "source": [
    "# current date as string (for saving json)\n",
    "from datetime import date\n",
    "today = date.today().strftime(\"%d-%m-%Y\")\n",
    "today\n",
    "\n",
    "json_file = \"./results-RF-anne.json\" # set path to save json-file \n",
    "\n",
    "\n"
   ]
  },
  {
   "cell_type": "code",
   "execution_count": 335,
   "metadata": {},
   "outputs": [
    {
     "data": {
      "text/plain": [
       "{'model': 'RandomForestRegressor',\n",
       " 'n_train': 200,\n",
       " 'n_test': 100000,\n",
       " 'n_features': 10,\n",
       " 'FD_noise': 0,\n",
       " 'transformation': 'sqrt',\n",
       " 'n_groups': 20,\n",
       " 'n_folds': 5,\n",
       " 'n_iter': 20,\n",
       " 'n_repetitions': 10,\n",
       " 'scoring': 'neg_mean_squared_error',\n",
       " 'n_jobs': -1,\n",
       " 'json_file': './test.json'}"
      ]
     },
     "execution_count": 335,
     "metadata": {},
     "output_type": "execute_result"
    }
   ],
   "source": [
    "# Data Creation\n",
    "n_train= 200\n",
    "n_test= 100000\n",
    "n_features = 10\n",
    "FD_noise= 0\n",
    "transformation='sqrt'\n",
    "seed=567\n",
    "\n",
    "# Stratification\n",
    "n_groups = 20\n",
    "\n",
    "# RandomSearchCV\n",
    "n_folds = 5\n",
    "n_iter= 20\n",
    "n_repetitions= 10\n",
    "scoring= 'neg_mean_squared_error' #Metriken anschauen\n",
    "n_jobs= -1\n",
    "\n",
    "RF_param_grid = {\n",
    "    'min_samples_split': np.arange(2, 21),\n",
    "    'min_samples_leaf': np.arange(1, 21),\n",
    "    'max_features': np.arange(1, n_features + 1) #@nadja is that right?\n",
    "}\n",
    "\n",
    "# Initalize Model\n",
    "modelOptimizer = ModelOptimizerFinal(RandomForestRegressor(random_state=seed), \n",
    "                                RF_param_grid,\n",
    "                                random_state=seed)\n",
    "\n",
    "model = RandomForestRegressor(n_estimators=1000, random_state=seed) \n",
    "# Save Parameters in a dictionary\n",
    "params = {'model': modelOptimizer.model.__class__.__name__,\n",
    "          'n_train': n_train,\n",
    "          'n_test': n_test,\n",
    "          'n_features': n_features,\n",
    "          'FD_noise': FD_noise,\n",
    "          'transformation': transformation,\n",
    "          'n_groups': n_groups,\n",
    "          'n_folds': n_folds,\n",
    "          'n_iter': n_iter,\n",
    "          'n_repetitions': n_repetitions,\n",
    "          'scoring': scoring, \n",
    "          'n_jobs': n_jobs,\n",
    "          'json_file': json_file}\n",
    "params"
   ]
  },
  {
   "cell_type": "code",
   "execution_count": 143,
   "metadata": {},
   "outputs": [],
   "source": [
    "train = FriedmanDataset(n_samples=n_train, \n",
    "                            n_features=n_features, \n",
    "                            noise=FD_noise, \n",
    "                            random_state=seed)\n",
    "#train.transform(transformation=transformation)\n",
    "\n",
    "test = FriedmanDataset(n_samples=n_test,\n",
    "                           n_features=n_features,\n",
    "                           noise=FD_noise,\n",
    "                           random_state=seed)"
   ]
  },
  {
   "cell_type": "code",
   "execution_count": null,
   "metadata": {},
   "outputs": [],
   "source": []
  },
  {
   "cell_type": "code",
   "execution_count": 339,
   "metadata": {},
   "outputs": [],
   "source": [
    "# get parameters from params dictionary\n",
    "n_train = params['n_train']\n",
    "n_test = params['n_test']\n",
    "n_features = params['n_features']\n",
    "noise = params['FD_noise']\n",
    "transformation = params['transformation']\n",
    "n_folds= params['n_folds']\n",
    "n_groups = params['n_groups']\n",
    "scoring = params['scoring']\n",
    "n_jobs = params['n_jobs']\n",
    "n_iter = params['n_iter']\n",
    "n_repetitions = params['n_repetitions']\n",
    "json_file = params['json_file']"
   ]
  },
  {
   "cell_type": "code",
   "execution_count": 340,
   "metadata": {},
   "outputs": [],
   "source": [
    "X_test, y_test = generate_friedman1(n_samples=n_test,\n",
    "                                                     n_features=n_features,\n",
    "                                                     noise=5,\n",
    "                                                     random_state=1718,\n",
    "                                                     transformation='sqrt')"
   ]
  },
  {
   "cell_type": "code",
   "execution_count": 341,
   "metadata": {},
   "outputs": [],
   "source": [
    "import random"
   ]
  },
  {
   "cell_type": "code",
   "execution_count": 342,
   "metadata": {},
   "outputs": [],
   "source": [
    "random_states = None"
   ]
  },
  {
   "cell_type": "code",
   "execution_count": 343,
   "metadata": {},
   "outputs": [],
   "source": [
    "if not isinstance(random_states, list):\n",
    "    random.seed(seed)\n",
    "    random_states = random.sample(range(1, 10000), n_repetitions)"
   ]
  },
  {
   "cell_type": "code",
   "execution_count": 344,
   "metadata": {},
   "outputs": [
    {
     "data": {
      "text/plain": [
       "[2331, 5223, 7789, 1361, 9493, 4638, 7623, 6460, 479, 2661]"
      ]
     },
     "execution_count": 344,
     "metadata": {},
     "output_type": "execute_result"
    }
   ],
   "source": [
    "random_states"
   ]
  },
  {
   "cell_type": "code",
   "execution_count": 345,
   "metadata": {},
   "outputs": [],
   "source": [
    "all_results = {}\n",
    "all_results_stratified = {}"
   ]
  },
  {
   "cell_type": "code",
   "execution_count": 346,
   "metadata": {},
   "outputs": [
    {
     "data": {
      "text/plain": [
       "{'model_info': {'model': 'RandomForestRegressor',\n",
       "  'n_train': 200,\n",
       "  'n_test': 100000,\n",
       "  'n_features': 10,\n",
       "  'FD_noise': 0,\n",
       "  'transformation': 'sqrt',\n",
       "  'n_groups': 20,\n",
       "  'n_folds': 5,\n",
       "  'n_iter': 20,\n",
       "  'n_repetitions': 10,\n",
       "  'scoring': 'neg_mean_squared_error',\n",
       "  'n_jobs': -1,\n",
       "  'json_file': './test.json'},\n",
       " 'seed': 567}"
      ]
     },
     "execution_count": 346,
     "metadata": {},
     "output_type": "execute_result"
    }
   ],
   "source": [
    "initialization = {\n",
    "            'model_info': params,\n",
    "            'seed': seed\n",
    "        }\n",
    "initialization"
   ]
  },
  {
   "cell_type": "code",
   "execution_count": 347,
   "metadata": {},
   "outputs": [
    {
     "name": "stdout",
     "output_type": "stream",
     "text": [
      "0\n",
      "1\n",
      "2\n",
      "3\n",
      "4\n",
      "5\n",
      "6\n",
      "7\n",
      "8\n",
      "9\n"
     ]
    }
   ],
   "source": [
    "for repetition in range(n_repetitions):\n",
    "    print(repetition)\n",
    "\n",
    "repetition=0"
   ]
  },
  {
   "cell_type": "code",
   "execution_count": 348,
   "metadata": {},
   "outputs": [],
   "source": [
    "X_train, y_train = generate_friedman1(n_samples=n_train,\n",
    "                                                        n_features=n_features,\n",
    "                                                        noise=5,\n",
    "                                                        random_state=random_states[repetition],\n",
    "                                                        transformation='sqrt')"
   ]
  },
  {
   "cell_type": "code",
   "execution_count": 349,
   "metadata": {},
   "outputs": [
    {
     "data": {
      "text/plain": [
       "array([4.24480491, 3.75802221, 5.05028961, 4.33340671, 3.88975302,\n",
       "       4.97864666, 4.51332033, 4.53210509, 3.37281676, 1.40220202,\n",
       "       4.78256716, 3.94048031, 4.8109586 , 3.75746215, 3.48710167,\n",
       "       2.88312239, 3.64504473, 4.1192131 , 4.05030068, 3.99963594,\n",
       "       4.52933586,        nan, 3.41296582, 1.53978225, 3.64376994,\n",
       "       3.26448527, 3.78215468, 3.91556482, 4.48865919,        nan,\n",
       "       4.30224533, 5.25379081, 2.46112927, 4.62044858, 4.67913174,\n",
       "       3.11906829, 3.15229023, 3.66581649, 4.04009027, 4.489475  ,\n",
       "       4.61656701, 3.42522022, 3.82776742, 0.85874264, 3.72010053,\n",
       "       3.82286338, 2.35519664, 3.82535325, 3.49936724, 2.02979521,\n",
       "       4.52880907, 6.27966252, 2.63874066, 2.95221701, 4.48371754,\n",
       "       4.14363162, 3.60366544, 2.75491293, 4.68869887, 3.59156614,\n",
       "       4.36178895, 3.54202909, 3.64165355, 5.45734961,        nan,\n",
       "       2.82520916, 4.53953874, 4.41600386, 4.03357916, 2.80228078,\n",
       "       4.38403903, 4.21879338, 4.39115016, 3.58982041, 4.86677967,\n",
       "       3.03941045, 4.86678428, 5.05238206, 5.60700085, 1.5196569 ,\n",
       "       4.30103707, 4.61360756, 4.71877265, 5.04995503, 3.37907759,\n",
       "       4.23522113, 4.51026802, 3.54397515, 3.6068327 , 3.18549503,\n",
       "       4.95088237, 3.43306836, 4.02984714, 3.06393633, 5.01599689,\n",
       "       2.53233113, 3.95084542, 4.99486697, 5.44774231, 4.10428935,\n",
       "       3.99432367, 2.4915945 , 4.48318942, 3.97160724,        nan,\n",
       "       4.41526026, 3.8208068 , 4.08495359, 4.37939732, 3.83087813,\n",
       "       4.56552802, 2.78788012, 3.26267199, 3.77415589, 4.72859248,\n",
       "       1.39900253, 3.57125008, 4.18247461, 4.09321659, 2.69353665,\n",
       "       4.43163202, 4.37166946, 3.40222526, 4.43324713, 3.69309368,\n",
       "       2.79144972, 2.02300561, 4.59473025, 4.28054499, 3.18639613,\n",
       "       3.49168574, 2.73317423, 4.67335303, 3.07582438, 3.39354928,\n",
       "       3.51732706, 3.29032231, 3.08427223, 3.1524708 , 4.69000046,\n",
       "       2.32564441, 1.96492674, 5.25835011, 4.83899471, 3.59566182,\n",
       "       4.11996327, 3.96058449, 5.59186945, 2.97122016, 4.91109356,\n",
       "       4.68011499, 5.57037301, 3.2796263 , 5.29747402, 4.18811313,\n",
       "       3.15283563, 3.14463078, 2.83428439, 4.05194314, 4.07226526,\n",
       "       5.06642019, 4.66122947, 2.12371585, 3.43506045, 2.64625735,\n",
       "       4.76207548, 3.66323967, 3.08384215, 4.01063401, 2.69856905,\n",
       "       3.48651161, 4.28291051, 3.70411095,        nan, 4.03723883,\n",
       "       5.13325441, 2.21875986, 2.96170987, 4.26523215, 3.71042046,\n",
       "       4.00731889, 4.07505389, 5.16120214, 3.44324677, 4.65478579,\n",
       "       4.69208481,        nan, 3.11835041, 4.82779495, 3.03050766,\n",
       "       4.12970277, 4.07948674, 0.78253609, 4.26947   , 2.94061578,\n",
       "       3.37175422, 4.51119207, 4.84756588, 4.10972398, 4.07426666])"
      ]
     },
     "execution_count": 349,
     "metadata": {},
     "output_type": "execute_result"
    }
   ],
   "source": [
    "y_train"
   ]
  },
  {
   "cell_type": "code",
   "execution_count": 350,
   "metadata": {},
   "outputs": [
    {
     "data": {
      "text/plain": [
       "True"
      ]
     },
     "execution_count": 350,
     "metadata": {},
     "output_type": "execute_result"
    }
   ],
   "source": [
    "np.isnan(y_train).any()"
   ]
  },
  {
   "cell_type": "code",
   "execution_count": 351,
   "metadata": {},
   "outputs": [],
   "source": [
    "# Check for NaN values in the data\n",
    "            \n",
    "X_train, y_train = make_friedman1(n_samples=n_train,\n",
    "                                    n_features=n_features, \n",
    "                                    noise=noise, \n",
    "                                    random_state=random_states[repetition])\n",
    "X_test, y_test = make_friedman1(n_samples=n_test,\n",
    "                                    n_features=n_features,\n",
    "                                    noise=noise,\n",
    "                                    random_state=1718)\n",
    "min_val = min(y_train.min(), y_test.min())\n",
    "                # @Anne: Noch absprechen... +1 weil es sonst Skala durch Werte [0, 1] hauptsächlich bei y_test größer wird.           \n",
    "y_train = y_train + abs(min_val) + 1\n",
    "y_test = y_test + abs(min_val) + 1\n",
    "if transformation=='identity':\n",
    "    pass\n",
    "elif transformation == 'log':\n",
    "    y_train = np.log(y_train)\n",
    "    y_test = np.log(y_test)\n",
    "elif transformation == 'sqrt':\n",
    "    y_train = np.sqrt(y_train)\n",
    "    y_test = np.sqrt(y_test)"
   ]
  },
  {
   "cell_type": "code",
   "execution_count": 81,
   "metadata": {},
   "outputs": [],
   "source": [
    "import matplotlib.pyplot as plt\n",
    "import seaborn as sns"
   ]
  },
  {
   "cell_type": "code",
   "execution_count": 160,
   "metadata": {},
   "outputs": [
    {
     "name": "stdout",
     "output_type": "stream",
     "text": [
      "1.8605467590571614\n"
     ]
    },
    {
     "data": {
      "image/png": "[encoded data removed]",
      "text/plain": [
       "<Figure size 640x480 with 1 Axes>"
      ]
     },
     "metadata": {},
     "output_type": "display_data"
    }
   ],
   "source": [
    "sns.histplot(y_train, bins=50)\n",
    "print(min(np.sqrt(y_train+ abs(min(y_train.min(), y_test.min())-0.01))))"
   ]
  },
  {
   "cell_type": "code",
   "execution_count": 161,
   "metadata": {},
   "outputs": [
    {
     "name": "stdout",
     "output_type": "stream",
     "text": [
      "1.6585058144207727\n"
     ]
    },
    {
     "data": {
      "image/png": "[encoded data removed]",
      "text/plain": [
       "<Figure size 640x480 with 1 Axes>"
      ]
     },
     "metadata": {},
     "output_type": "display_data"
    }
   ],
   "source": [
    "sns.histplot(y_test, bins=50)\n",
    "print(min(np.sqrt(y_test+ abs(min(y_train.min(), y_test.min())-0.01))))"
   ]
  },
  {
   "cell_type": "code",
   "execution_count": 354,
   "metadata": {},
   "outputs": [],
   "source": [
    "stratified=False                                                      \n",
    "                                                            "
   ]
  },
  {
   "cell_type": "code",
   "execution_count": 362,
   "metadata": {},
   "outputs": [
    {
     "data": {
      "text/html": [
       "<style>#sk-container-id-6 {color: black;}#sk-container-id-6 pre{padding: 0;}#sk-container-id-6 div.sk-toggleable {background-color: white;}#sk-container-id-6 label.sk-toggleable__label {cursor: pointer;display: block;width: 100%;margin-bottom: 0;padding: 0.3em;box-sizing: border-box;text-align: center;}#sk-container-id-6 label.sk-toggleable__label-arrow:before {content: \"▸\";float: left;margin-right: 0.25em;color: #696969;}#sk-container-id-6 label.sk-toggleable__label-arrow:hover:before {color: black;}#sk-container-id-6 div.sk-estimator:hover label.sk-toggleable__label-arrow:before {color: black;}#sk-container-id-6 div.sk-toggleable__content {max-height: 0;max-width: 0;overflow: hidden;text-align: left;background-color: #f0f8ff;}#sk-container-id-6 div.sk-toggleable__content pre {margin: 0.2em;color: black;border-radius: 0.25em;background-color: #f0f8ff;}#sk-container-id-6 input.sk-toggleable__control:checked~div.sk-toggleable__content {max-height: 200px;max-width: 100%;overflow: auto;}#sk-container-id-6 input.sk-toggleable__control:checked~label.sk-toggleable__label-arrow:before {content: \"▾\";}#sk-container-id-6 div.sk-estimator input.sk-toggleable__control:checked~label.sk-toggleable__label {background-color: #d4ebff;}#sk-container-id-6 div.sk-label input.sk-toggleable__control:checked~label.sk-toggleable__label {background-color: #d4ebff;}#sk-container-id-6 input.sk-hidden--visually {border: 0;clip: rect(1px 1px 1px 1px);clip: rect(1px, 1px, 1px, 1px);height: 1px;margin: -1px;overflow: hidden;padding: 0;position: absolute;width: 1px;}#sk-container-id-6 div.sk-estimator {font-family: monospace;background-color: #f0f8ff;border: 1px dotted black;border-radius: 0.25em;box-sizing: border-box;margin-bottom: 0.5em;}#sk-container-id-6 div.sk-estimator:hover {background-color: #d4ebff;}#sk-container-id-6 div.sk-parallel-item::after {content: \"\";width: 100%;border-bottom: 1px solid gray;flex-grow: 1;}#sk-container-id-6 div.sk-label:hover label.sk-toggleable__label {background-color: #d4ebff;}#sk-container-id-6 div.sk-serial::before {content: \"\";position: absolute;border-left: 1px solid gray;box-sizing: border-box;top: 0;bottom: 0;left: 50%;z-index: 0;}#sk-container-id-6 div.sk-serial {display: flex;flex-direction: column;align-items: center;background-color: white;padding-right: 0.2em;padding-left: 0.2em;position: relative;}#sk-container-id-6 div.sk-item {position: relative;z-index: 1;}#sk-container-id-6 div.sk-parallel {display: flex;align-items: stretch;justify-content: center;background-color: white;position: relative;}#sk-container-id-6 div.sk-item::before, #sk-container-id-6 div.sk-parallel-item::before {content: \"\";position: absolute;border-left: 1px solid gray;box-sizing: border-box;top: 0;bottom: 0;left: 50%;z-index: -1;}#sk-container-id-6 div.sk-parallel-item {display: flex;flex-direction: column;z-index: 1;position: relative;background-color: white;}#sk-container-id-6 div.sk-parallel-item:first-child::after {align-self: flex-end;width: 50%;}#sk-container-id-6 div.sk-parallel-item:last-child::after {align-self: flex-start;width: 50%;}#sk-container-id-6 div.sk-parallel-item:only-child::after {width: 0;}#sk-container-id-6 div.sk-dashed-wrapped {border: 1px dashed gray;margin: 0 0.4em 0.5em 0.4em;box-sizing: border-box;padding-bottom: 0.4em;background-color: white;}#sk-container-id-6 div.sk-label label {font-family: monospace;font-weight: bold;display: inline-block;line-height: 1.2em;}#sk-container-id-6 div.sk-label-container {text-align: center;}#sk-container-id-6 div.sk-container {/* jupyter's `normalize.less` sets `[hidden] { display: none; }` but bootstrap.min.css set `[hidden] { display: none !important; }` so we also need the `!important` here to be able to override the default hidden behavior on the sphinx rendered scikit-learn.org. See: https://github.com/scikit-learn/scikit-learn/issues/21755 */display: inline-block !important;position: relative;}#sk-container-id-6 div.sk-text-repr-fallback {display: none;}</style><div id=\"sk-container-id-6\" class=\"sk-top-container\"><div class=\"sk-text-repr-fallback\"><pre>RandomForestRegressor(n_estimators=1000, random_state=567)</pre><b>In a Jupyter environment, please rerun this cell to show the HTML representation or trust the notebook. <br />On GitHub, the HTML representation is unable to render, please try loading this page with nbviewer.org.</b></div><div class=\"sk-container\" hidden><div class=\"sk-item\"><div class=\"sk-estimator sk-toggleable\"><input class=\"sk-toggleable__control sk-hidden--visually\" id=\"sk-estimator-id-10\" type=\"checkbox\" checked><label for=\"sk-estimator-id-10\" class=\"sk-toggleable__label sk-toggleable__label-arrow\">RandomForestRegressor</label><div class=\"sk-toggleable__content\"><pre>RandomForestRegressor(n_estimators=1000, random_state=567)</pre></div></div></div></div></div>"
      ],
      "text/plain": [
       "RandomForestRegressor(n_estimators=1000, random_state=567)"
      ]
     },
     "execution_count": 362,
     "metadata": {},
     "output_type": "execute_result"
    }
   ],
   "source": [
    "model"
   ]
  },
  {
   "cell_type": "code",
   "execution_count": 365,
   "metadata": {},
   "outputs": [],
   "source": [
    "def perform_optimization(X_train, \n",
    "                              y_train, \n",
    "                              X_test, \n",
    "                              y_test, \n",
    "                              cv, \n",
    "                              n_groups, \n",
    "                              scoring, \n",
    "                              n_jobs, \n",
    "                              n_iter, \n",
    "                              random_state,\n",
    "                              stratified):\n",
    "        '''\n",
    "        Function to perform the optimization.\n",
    "        Inputs:\n",
    "            the same as in optimize function\n",
    "            stratified: whether to use stratified k-fold or not\n",
    "        Outputs:\n",
    "            evaluation_results: the evaluation results in a dictionary\n",
    "            best_params: the best parameters in a dictionary\n",
    "        '''\n",
    "        if stratified:\n",
    "            cv_splits = create_cont_folds(y_train, n_folds=cv, n_groups=n_groups)\n",
    "            output_text = 'Stratified Split Cross-validation'\n",
    "        else:\n",
    "            cv_splits = cv\n",
    "            output_text = 'Random Split Cross-validation'\n",
    "        \n",
    "        start_time = time.time()\n",
    "        random_search = RandomizedSearchCV(estimator=model,\n",
    "                                           param_distributions=RF_param_grid,\n",
    "                                           n_iter=n_iter,\n",
    "                                           cv=cv_splits,\n",
    "                                           scoring=scoring,\n",
    "                                           n_jobs=n_jobs,\n",
    "                                           random_state=random_state)\n",
    "        random_search.fit(X_train, y_train)\n",
    "        end_time = time.time()\n",
    "        running_time = end_time - start_time\n",
    "        print(\"Best Parameters:\", random_search.best_params_)\n",
    "\n",
    "        # Evaluate the model\n",
    "        evaluation_results = evaluate_rf(random_search, X_train, X_test, y_train, y_test)\n",
    "        print(\"Evaluation Results of\", output_text, ': ', evaluation_results)\n",
    "        print('running_time: ', round(running_time/60, 2), ' min')\n",
    "        \n",
    "        return evaluation_results, random_search.best_params_, running_time\n"
   ]
  },
  {
   "cell_type": "code",
   "execution_count": 366,
   "metadata": {},
   "outputs": [
    {
     "name": "stdout",
     "output_type": "stream",
     "text": [
      "Best Parameters: {'min_samples_split': 12, 'min_samples_leaf': 4, 'max_features': 9}\n",
      "Evaluation Results of Random Split Cross-validation :  {'train r2': 0.9019, 'test r2': 0.7694, 'train mse': 0.044, 'test mse': 0.0938, 'train mae': 0.1517, 'test mae': 0.2412}\n",
      "running_time:  1.07  min\n"
     ]
    }
   ],
   "source": [
    "# Perform optimization with unstratified cross-validation\n",
    "unstratified_results, unstratified_params, unstratified_running_time = perform_optimization(\n",
    "                                                            X_train, \n",
    "                                                            y_train, \n",
    "                                                            X_test,\n",
    "                                                            y_test,\n",
    "                                                            n_folds, \n",
    "                                                            n_groups,\n",
    "                                                            scoring, \n",
    "                                                            n_jobs, \n",
    "                                                            n_iter, \n",
    "                                                            random_states[repetition],\n",
    "                                                            stratified=False)"
   ]
  },
  {
   "cell_type": "code",
   "execution_count": 367,
   "metadata": {},
   "outputs": [],
   "source": [
    "all_results.update({f'Repetition {repetition}': unstratified_results})"
   ]
  },
  {
   "cell_type": "code",
   "execution_count": 372,
   "metadata": {},
   "outputs": [
    {
     "data": {
      "text/html": [
       "<style>#sk-container-id-9 {color: black;}#sk-container-id-9 pre{padding: 0;}#sk-container-id-9 div.sk-toggleable {background-color: white;}#sk-container-id-9 label.sk-toggleable__label {cursor: pointer;display: block;width: 100%;margin-bottom: 0;padding: 0.3em;box-sizing: border-box;text-align: center;}#sk-container-id-9 label.sk-toggleable__label-arrow:before {content: \"▸\";float: left;margin-right: 0.25em;color: #696969;}#sk-container-id-9 label.sk-toggleable__label-arrow:hover:before {color: black;}#sk-container-id-9 div.sk-estimator:hover label.sk-toggleable__label-arrow:before {color: black;}#sk-container-id-9 div.sk-toggleable__content {max-height: 0;max-width: 0;overflow: hidden;text-align: left;background-color: #f0f8ff;}#sk-container-id-9 div.sk-toggleable__content pre {margin: 0.2em;color: black;border-radius: 0.25em;background-color: #f0f8ff;}#sk-container-id-9 input.sk-toggleable__control:checked~div.sk-toggleable__content {max-height: 200px;max-width: 100%;overflow: auto;}#sk-container-id-9 input.sk-toggleable__control:checked~label.sk-toggleable__label-arrow:before {content: \"▾\";}#sk-container-id-9 div.sk-estimator input.sk-toggleable__control:checked~label.sk-toggleable__label {background-color: #d4ebff;}#sk-container-id-9 div.sk-label input.sk-toggleable__control:checked~label.sk-toggleable__label {background-color: #d4ebff;}#sk-container-id-9 input.sk-hidden--visually {border: 0;clip: rect(1px 1px 1px 1px);clip: rect(1px, 1px, 1px, 1px);height: 1px;margin: -1px;overflow: hidden;padding: 0;position: absolute;width: 1px;}#sk-container-id-9 div.sk-estimator {font-family: monospace;background-color: #f0f8ff;border: 1px dotted black;border-radius: 0.25em;box-sizing: border-box;margin-bottom: 0.5em;}#sk-container-id-9 div.sk-estimator:hover {background-color: #d4ebff;}#sk-container-id-9 div.sk-parallel-item::after {content: \"\";width: 100%;border-bottom: 1px solid gray;flex-grow: 1;}#sk-container-id-9 div.sk-label:hover label.sk-toggleable__label {background-color: #d4ebff;}#sk-container-id-9 div.sk-serial::before {content: \"\";position: absolute;border-left: 1px solid gray;box-sizing: border-box;top: 0;bottom: 0;left: 50%;z-index: 0;}#sk-container-id-9 div.sk-serial {display: flex;flex-direction: column;align-items: center;background-color: white;padding-right: 0.2em;padding-left: 0.2em;position: relative;}#sk-container-id-9 div.sk-item {position: relative;z-index: 1;}#sk-container-id-9 div.sk-parallel {display: flex;align-items: stretch;justify-content: center;background-color: white;position: relative;}#sk-container-id-9 div.sk-item::before, #sk-container-id-9 div.sk-parallel-item::before {content: \"\";position: absolute;border-left: 1px solid gray;box-sizing: border-box;top: 0;bottom: 0;left: 50%;z-index: -1;}#sk-container-id-9 div.sk-parallel-item {display: flex;flex-direction: column;z-index: 1;position: relative;background-color: white;}#sk-container-id-9 div.sk-parallel-item:first-child::after {align-self: flex-end;width: 50%;}#sk-container-id-9 div.sk-parallel-item:last-child::after {align-self: flex-start;width: 50%;}#sk-container-id-9 div.sk-parallel-item:only-child::after {width: 0;}#sk-container-id-9 div.sk-dashed-wrapped {border: 1px dashed gray;margin: 0 0.4em 0.5em 0.4em;box-sizing: border-box;padding-bottom: 0.4em;background-color: white;}#sk-container-id-9 div.sk-label label {font-family: monospace;font-weight: bold;display: inline-block;line-height: 1.2em;}#sk-container-id-9 div.sk-label-container {text-align: center;}#sk-container-id-9 div.sk-container {/* jupyter's `normalize.less` sets `[hidden] { display: none; }` but bootstrap.min.css set `[hidden] { display: none !important; }` so we also need the `!important` here to be able to override the default hidden behavior on the sphinx rendered scikit-learn.org. See: https://github.com/scikit-learn/scikit-learn/issues/21755 */display: inline-block !important;position: relative;}#sk-container-id-9 div.sk-text-repr-fallback {display: none;}</style><div id=\"sk-container-id-9\" class=\"sk-top-container\"><div class=\"sk-text-repr-fallback\"><pre>RandomForestRegressor(n_estimators=1000, random_state=567)</pre><b>In a Jupyter environment, please rerun this cell to show the HTML representation or trust the notebook. <br />On GitHub, the HTML representation is unable to render, please try loading this page with nbviewer.org.</b></div><div class=\"sk-container\" hidden><div class=\"sk-item\"><div class=\"sk-estimator sk-toggleable\"><input class=\"sk-toggleable__control sk-hidden--visually\" id=\"sk-estimator-id-13\" type=\"checkbox\" checked><label for=\"sk-estimator-id-13\" class=\"sk-toggleable__label sk-toggleable__label-arrow\">RandomForestRegressor</label><div class=\"sk-toggleable__content\"><pre>RandomForestRegressor(n_estimators=1000, random_state=567)</pre></div></div></div></div></div>"
      ],
      "text/plain": [
       "RandomForestRegressor(n_estimators=1000, random_state=567)"
      ]
     },
     "execution_count": 372,
     "metadata": {},
     "output_type": "execute_result"
    }
   ],
   "source": [
    "model=RandomForestRegressor(n_estimators=1000, random_state=seed)\n",
    "model"
   ]
  },
  {
   "cell_type": "code",
   "execution_count": 373,
   "metadata": {},
   "outputs": [
    {
     "name": "stdout",
     "output_type": "stream",
     "text": [
      "Best Parameters: {'min_samples_split': 12, 'min_samples_leaf': 4, 'max_features': 9}\n",
      "Evaluation Results of Stratified Split Cross-validation :  {'train r2': 0.9019, 'test r2': 0.7694, 'train mse': 0.044, 'test mse': 0.0938, 'train mae': 0.1517, 'test mae': 0.2412}\n",
      "running_time:  1.01  min\n"
     ]
    }
   ],
   "source": [
    "# Perform optimization with stratified cross-validatio\n",
    "stratified_results, stratified_params, stratified_running_time = perform_optimization(X_train, \n",
    "                                                            y_train, \n",
    "                                                            X_test,\n",
    "                                                            y_test,\n",
    "                                                            n_folds, \n",
    "                                                            n_groups, \n",
    "                                                            scoring, \n",
    "                                                            n_jobs, \n",
    "                                                            n_iter, \n",
    "                                                            random_states[repetition],\n",
    "                                                            stratified=True)"
   ]
  },
  {
   "cell_type": "code",
   "execution_count": 374,
   "metadata": {},
   "outputs": [],
   "source": [
    "all_results_stratified.update({f'Repetition {repetition}': stratified_results}) # @Anne: check ich nicht ganz, was das macht"
   ]
  },
  {
   "cell_type": "code",
   "execution_count": 375,
   "metadata": {},
   "outputs": [
    {
     "data": {
      "text/plain": [
       "True"
      ]
     },
     "execution_count": 375,
     "metadata": {},
     "output_type": "execute_result"
    }
   ],
   "source": [
    "if unstratified_params == stratified_params:\n",
    "                hyperparameters_same = True\n",
    "else:\n",
    "                hyperparameters_same = False\n",
    "\n",
    "hyperparameters_same"
   ]
  },
  {
   "cell_type": "code",
   "execution_count": 376,
   "metadata": {},
   "outputs": [],
   "source": [
    "results = {\n",
    "                'repetition': repetition,\n",
    "                'random_state': random_states[repetition],\n",
    "                'hyperparameters_same': hyperparameters_same,\n",
    "                'unstratified_params':unstratified_params,\n",
    "                'stratified_params': stratified_params,\n",
    "                'unstratified_results': unstratified_results,\n",
    "                'stratified_results': stratified_results,\n",
    "                'unstratified_running_time': round(unstratified_running_time,2), \n",
    "                'stratified_running_time': round(stratified_running_time, 2)\n",
    "            }"
   ]
  },
  {
   "cell_type": "code",
   "execution_count": 377,
   "metadata": {},
   "outputs": [],
   "source": [
    "initialization.update(results)"
   ]
  },
  {
   "cell_type": "code",
   "execution_count": 378,
   "metadata": {},
   "outputs": [],
   "source": [
    "with open(json_file, 'r') as file:\n",
    "                existing_data = json.load(file)\n",
    "\n",
    "            # Append the new results dictionary to the existing data\n",
    "existing_data.append(initialization)"
   ]
  },
  {
   "cell_type": "code",
   "execution_count": 379,
   "metadata": {},
   "outputs": [],
   "source": [
    "with open(json_file, 'w') as file:\n",
    "                json.dump(existing_data, file, indent=4, default=_convert_numpy_types)"
   ]
  },
  {
   "cell_type": "code",
   "execution_count": null,
   "metadata": {},
   "outputs": [],
   "source": []
  },
  {
   "cell_type": "code",
   "execution_count": 177,
   "metadata": {},
   "outputs": [],
   "source": [
    "if stratified:\n",
    "            cv_splits = create_cont_folds(y_train, n_folds=cv, n_groups=n_groups)\n",
    "            output_text = 'Stratified Split Cross-validation'\n",
    "else:\n",
    "            cv_splits = cv\n",
    "            output_text = 'Random Split Cross-validation'"
   ]
  },
  {
   "cell_type": "code",
   "execution_count": 178,
   "metadata": {},
   "outputs": [
    {
     "data": {
      "text/plain": [
       "'Random Split Cross-validation'"
      ]
     },
     "execution_count": 178,
     "metadata": {},
     "output_type": "execute_result"
    }
   ],
   "source": [
    "output_text"
   ]
  },
  {
   "cell_type": "code",
   "execution_count": 180,
   "metadata": {},
   "outputs": [],
   "source": [
    "random_search = RandomizedSearchCV(estimator=model,\n",
    "                                           param_distributions=RF_param_grid,\n",
    "                                           n_iter=n_iter,\n",
    "                                           cv=cv_splits,\n",
    "                                           scoring=scoring,\n",
    "                                           n_jobs=n_jobs,\n",
    "                                           random_state=random_states[repetition])"
   ]
  },
  {
   "cell_type": "code",
   "execution_count": 181,
   "metadata": {},
   "outputs": [
    {
     "data": {
      "text/html": [
       "<style>#sk-container-id-1 {color: black;}#sk-container-id-1 pre{padding: 0;}#sk-container-id-1 div.sk-toggleable {background-color: white;}#sk-container-id-1 label.sk-toggleable__label {cursor: pointer;display: block;width: 100%;margin-bottom: 0;padding: 0.3em;box-sizing: border-box;text-align: center;}#sk-container-id-1 label.sk-toggleable__label-arrow:before {content: \"▸\";float: left;margin-right: 0.25em;color: #696969;}#sk-container-id-1 label.sk-toggleable__label-arrow:hover:before {color: black;}#sk-container-id-1 div.sk-estimator:hover label.sk-toggleable__label-arrow:before {color: black;}#sk-container-id-1 div.sk-toggleable__content {max-height: 0;max-width: 0;overflow: hidden;text-align: left;background-color: #f0f8ff;}#sk-container-id-1 div.sk-toggleable__content pre {margin: 0.2em;color: black;border-radius: 0.25em;background-color: #f0f8ff;}#sk-container-id-1 input.sk-toggleable__control:checked~div.sk-toggleable__content {max-height: 200px;max-width: 100%;overflow: auto;}#sk-container-id-1 input.sk-toggleable__control:checked~label.sk-toggleable__label-arrow:before {content: \"▾\";}#sk-container-id-1 div.sk-estimator input.sk-toggleable__control:checked~label.sk-toggleable__label {background-color: #d4ebff;}#sk-container-id-1 div.sk-label input.sk-toggleable__control:checked~label.sk-toggleable__label {background-color: #d4ebff;}#sk-container-id-1 input.sk-hidden--visually {border: 0;clip: rect(1px 1px 1px 1px);clip: rect(1px, 1px, 1px, 1px);height: 1px;margin: -1px;overflow: hidden;padding: 0;position: absolute;width: 1px;}#sk-container-id-1 div.sk-estimator {font-family: monospace;background-color: #f0f8ff;border: 1px dotted black;border-radius: 0.25em;box-sizing: border-box;margin-bottom: 0.5em;}#sk-container-id-1 div.sk-estimator:hover {background-color: #d4ebff;}#sk-container-id-1 div.sk-parallel-item::after {content: \"\";width: 100%;border-bottom: 1px solid gray;flex-grow: 1;}#sk-container-id-1 div.sk-label:hover label.sk-toggleable__label {background-color: #d4ebff;}#sk-container-id-1 div.sk-serial::before {content: \"\";position: absolute;border-left: 1px solid gray;box-sizing: border-box;top: 0;bottom: 0;left: 50%;z-index: 0;}#sk-container-id-1 div.sk-serial {display: flex;flex-direction: column;align-items: center;background-color: white;padding-right: 0.2em;padding-left: 0.2em;position: relative;}#sk-container-id-1 div.sk-item {position: relative;z-index: 1;}#sk-container-id-1 div.sk-parallel {display: flex;align-items: stretch;justify-content: center;background-color: white;position: relative;}#sk-container-id-1 div.sk-item::before, #sk-container-id-1 div.sk-parallel-item::before {content: \"\";position: absolute;border-left: 1px solid gray;box-sizing: border-box;top: 0;bottom: 0;left: 50%;z-index: -1;}#sk-container-id-1 div.sk-parallel-item {display: flex;flex-direction: column;z-index: 1;position: relative;background-color: white;}#sk-container-id-1 div.sk-parallel-item:first-child::after {align-self: flex-end;width: 50%;}#sk-container-id-1 div.sk-parallel-item:last-child::after {align-self: flex-start;width: 50%;}#sk-container-id-1 div.sk-parallel-item:only-child::after {width: 0;}#sk-container-id-1 div.sk-dashed-wrapped {border: 1px dashed gray;margin: 0 0.4em 0.5em 0.4em;box-sizing: border-box;padding-bottom: 0.4em;background-color: white;}#sk-container-id-1 div.sk-label label {font-family: monospace;font-weight: bold;display: inline-block;line-height: 1.2em;}#sk-container-id-1 div.sk-label-container {text-align: center;}#sk-container-id-1 div.sk-container {/* jupyter's `normalize.less` sets `[hidden] { display: none; }` but bootstrap.min.css set `[hidden] { display: none !important; }` so we also need the `!important` here to be able to override the default hidden behavior on the sphinx rendered scikit-learn.org. See: https://github.com/scikit-learn/scikit-learn/issues/21755 */display: inline-block !important;position: relative;}#sk-container-id-1 div.sk-text-repr-fallback {display: none;}</style><div id=\"sk-container-id-1\" class=\"sk-top-container\"><div class=\"sk-text-repr-fallback\"><pre>RandomizedSearchCV(cv=5,\n",
       "                   estimator=RandomForestRegressor(n_estimators=1000,\n",
       "                                                   random_state=567),\n",
       "                   n_iter=200, n_jobs=-1,\n",
       "                   param_distributions={&#x27;max_features&#x27;: array([ 1,  2,  3,  4,  5,  6,  7,  8,  9, 10]),\n",
       "                                        &#x27;min_samples_leaf&#x27;: array([ 1,  2,  3,  4,  5,  6,  7,  8,  9, 10, 11, 12, 13, 14, 15, 16, 17,\n",
       "       18, 19, 20]),\n",
       "                                        &#x27;min_samples_split&#x27;: array([ 2,  3,  4,  5,  6,  7,  8,  9, 10, 11, 12, 13, 14, 15, 16, 17, 18,\n",
       "       19, 20])},\n",
       "                   random_state=2331, scoring=&#x27;neg_mean_squared_error&#x27;)</pre><b>In a Jupyter environment, please rerun this cell to show the HTML representation or trust the notebook. <br />On GitHub, the HTML representation is unable to render, please try loading this page with nbviewer.org.</b></div><div class=\"sk-container\" hidden><div class=\"sk-item sk-dashed-wrapped\"><div class=\"sk-label-container\"><div class=\"sk-label sk-toggleable\"><input class=\"sk-toggleable__control sk-hidden--visually\" id=\"sk-estimator-id-1\" type=\"checkbox\" ><label for=\"sk-estimator-id-1\" class=\"sk-toggleable__label sk-toggleable__label-arrow\">RandomizedSearchCV</label><div class=\"sk-toggleable__content\"><pre>RandomizedSearchCV(cv=5,\n",
       "                   estimator=RandomForestRegressor(n_estimators=1000,\n",
       "                                                   random_state=567),\n",
       "                   n_iter=200, n_jobs=-1,\n",
       "                   param_distributions={&#x27;max_features&#x27;: array([ 1,  2,  3,  4,  5,  6,  7,  8,  9, 10]),\n",
       "                                        &#x27;min_samples_leaf&#x27;: array([ 1,  2,  3,  4,  5,  6,  7,  8,  9, 10, 11, 12, 13, 14, 15, 16, 17,\n",
       "       18, 19, 20]),\n",
       "                                        &#x27;min_samples_split&#x27;: array([ 2,  3,  4,  5,  6,  7,  8,  9, 10, 11, 12, 13, 14, 15, 16, 17, 18,\n",
       "       19, 20])},\n",
       "                   random_state=2331, scoring=&#x27;neg_mean_squared_error&#x27;)</pre></div></div></div><div class=\"sk-parallel\"><div class=\"sk-parallel-item\"><div class=\"sk-item\"><div class=\"sk-label-container\"><div class=\"sk-label sk-toggleable\"><input class=\"sk-toggleable__control sk-hidden--visually\" id=\"sk-estimator-id-2\" type=\"checkbox\" ><label for=\"sk-estimator-id-2\" class=\"sk-toggleable__label sk-toggleable__label-arrow\">estimator: RandomForestRegressor</label><div class=\"sk-toggleable__content\"><pre>RandomForestRegressor(n_estimators=1000, random_state=567)</pre></div></div></div><div class=\"sk-serial\"><div class=\"sk-item\"><div class=\"sk-estimator sk-toggleable\"><input class=\"sk-toggleable__control sk-hidden--visually\" id=\"sk-estimator-id-3\" type=\"checkbox\" ><label for=\"sk-estimator-id-3\" class=\"sk-toggleable__label sk-toggleable__label-arrow\">RandomForestRegressor</label><div class=\"sk-toggleable__content\"><pre>RandomForestRegressor(n_estimators=1000, random_state=567)</pre></div></div></div></div></div></div></div></div></div></div>"
      ],
      "text/plain": [
       "RandomizedSearchCV(cv=5,\n",
       "                   estimator=RandomForestRegressor(n_estimators=1000,\n",
       "                                                   random_state=567),\n",
       "                   n_iter=200, n_jobs=-1,\n",
       "                   param_distributions={'max_features': array([ 1,  2,  3,  4,  5,  6,  7,  8,  9, 10]),\n",
       "                                        'min_samples_leaf': array([ 1,  2,  3,  4,  5,  6,  7,  8,  9, 10, 11, 12, 13, 14, 15, 16, 17,\n",
       "       18, 19, 20]),\n",
       "                                        'min_samples_split': array([ 2,  3,  4,  5,  6,  7,  8,  9, 10, 11, 12, 13, 14, 15, 16, 17, 18,\n",
       "       19, 20])},\n",
       "                   random_state=2331, scoring='neg_mean_squared_error')"
      ]
     },
     "execution_count": 181,
     "metadata": {},
     "output_type": "execute_result"
    }
   ],
   "source": [
    "random_search.fit(X_train, y_train)"
   ]
  },
  {
   "cell_type": "code",
   "execution_count": 182,
   "metadata": {},
   "outputs": [
    {
     "data": {
      "text/plain": [
       "{'min_samples_split': 2, 'min_samples_leaf': 1, 'max_features': 8}"
      ]
     },
     "execution_count": 182,
     "metadata": {},
     "output_type": "execute_result"
    }
   ],
   "source": [
    "random_search.best_params_"
   ]
  },
  {
   "cell_type": "code",
   "execution_count": 184,
   "metadata": {},
   "outputs": [],
   "source": [
    "best_model=random_search.best_estimator_"
   ]
  },
  {
   "cell_type": "code",
   "execution_count": 185,
   "metadata": {},
   "outputs": [
    {
     "data": {
      "text/html": [
       "<style>#sk-container-id-2 {color: black;}#sk-container-id-2 pre{padding: 0;}#sk-container-id-2 div.sk-toggleable {background-color: white;}#sk-container-id-2 label.sk-toggleable__label {cursor: pointer;display: block;width: 100%;margin-bottom: 0;padding: 0.3em;box-sizing: border-box;text-align: center;}#sk-container-id-2 label.sk-toggleable__label-arrow:before {content: \"▸\";float: left;margin-right: 0.25em;color: #696969;}#sk-container-id-2 label.sk-toggleable__label-arrow:hover:before {color: black;}#sk-container-id-2 div.sk-estimator:hover label.sk-toggleable__label-arrow:before {color: black;}#sk-container-id-2 div.sk-toggleable__content {max-height: 0;max-width: 0;overflow: hidden;text-align: left;background-color: #f0f8ff;}#sk-container-id-2 div.sk-toggleable__content pre {margin: 0.2em;color: black;border-radius: 0.25em;background-color: #f0f8ff;}#sk-container-id-2 input.sk-toggleable__control:checked~div.sk-toggleable__content {max-height: 200px;max-width: 100%;overflow: auto;}#sk-container-id-2 input.sk-toggleable__control:checked~label.sk-toggleable__label-arrow:before {content: \"▾\";}#sk-container-id-2 div.sk-estimator input.sk-toggleable__control:checked~label.sk-toggleable__label {background-color: #d4ebff;}#sk-container-id-2 div.sk-label input.sk-toggleable__control:checked~label.sk-toggleable__label {background-color: #d4ebff;}#sk-container-id-2 input.sk-hidden--visually {border: 0;clip: rect(1px 1px 1px 1px);clip: rect(1px, 1px, 1px, 1px);height: 1px;margin: -1px;overflow: hidden;padding: 0;position: absolute;width: 1px;}#sk-container-id-2 div.sk-estimator {font-family: monospace;background-color: #f0f8ff;border: 1px dotted black;border-radius: 0.25em;box-sizing: border-box;margin-bottom: 0.5em;}#sk-container-id-2 div.sk-estimator:hover {background-color: #d4ebff;}#sk-container-id-2 div.sk-parallel-item::after {content: \"\";width: 100%;border-bottom: 1px solid gray;flex-grow: 1;}#sk-container-id-2 div.sk-label:hover label.sk-toggleable__label {background-color: #d4ebff;}#sk-container-id-2 div.sk-serial::before {content: \"\";position: absolute;border-left: 1px solid gray;box-sizing: border-box;top: 0;bottom: 0;left: 50%;z-index: 0;}#sk-container-id-2 div.sk-serial {display: flex;flex-direction: column;align-items: center;background-color: white;padding-right: 0.2em;padding-left: 0.2em;position: relative;}#sk-container-id-2 div.sk-item {position: relative;z-index: 1;}#sk-container-id-2 div.sk-parallel {display: flex;align-items: stretch;justify-content: center;background-color: white;position: relative;}#sk-container-id-2 div.sk-item::before, #sk-container-id-2 div.sk-parallel-item::before {content: \"\";position: absolute;border-left: 1px solid gray;box-sizing: border-box;top: 0;bottom: 0;left: 50%;z-index: -1;}#sk-container-id-2 div.sk-parallel-item {display: flex;flex-direction: column;z-index: 1;position: relative;background-color: white;}#sk-container-id-2 div.sk-parallel-item:first-child::after {align-self: flex-end;width: 50%;}#sk-container-id-2 div.sk-parallel-item:last-child::after {align-self: flex-start;width: 50%;}#sk-container-id-2 div.sk-parallel-item:only-child::after {width: 0;}#sk-container-id-2 div.sk-dashed-wrapped {border: 1px dashed gray;margin: 0 0.4em 0.5em 0.4em;box-sizing: border-box;padding-bottom: 0.4em;background-color: white;}#sk-container-id-2 div.sk-label label {font-family: monospace;font-weight: bold;display: inline-block;line-height: 1.2em;}#sk-container-id-2 div.sk-label-container {text-align: center;}#sk-container-id-2 div.sk-container {/* jupyter's `normalize.less` sets `[hidden] { display: none; }` but bootstrap.min.css set `[hidden] { display: none !important; }` so we also need the `!important` here to be able to override the default hidden behavior on the sphinx rendered scikit-learn.org. See: https://github.com/scikit-learn/scikit-learn/issues/21755 */display: inline-block !important;position: relative;}#sk-container-id-2 div.sk-text-repr-fallback {display: none;}</style><div id=\"sk-container-id-2\" class=\"sk-top-container\"><div class=\"sk-text-repr-fallback\"><pre>RandomForestRegressor(max_features=8, n_estimators=1000, random_state=567)</pre><b>In a Jupyter environment, please rerun this cell to show the HTML representation or trust the notebook. <br />On GitHub, the HTML representation is unable to render, please try loading this page with nbviewer.org.</b></div><div class=\"sk-container\" hidden><div class=\"sk-item\"><div class=\"sk-estimator sk-toggleable\"><input class=\"sk-toggleable__control sk-hidden--visually\" id=\"sk-estimator-id-4\" type=\"checkbox\" checked><label for=\"sk-estimator-id-4\" class=\"sk-toggleable__label sk-toggleable__label-arrow\">RandomForestRegressor</label><div class=\"sk-toggleable__content\"><pre>RandomForestRegressor(max_features=8, n_estimators=1000, random_state=567)</pre></div></div></div></div></div>"
      ],
      "text/plain": [
       "RandomForestRegressor(max_features=8, n_estimators=1000, random_state=567)"
      ]
     },
     "execution_count": 185,
     "metadata": {},
     "output_type": "execute_result"
    }
   ],
   "source": [
    "best_model"
   ]
  },
  {
   "cell_type": "code",
   "execution_count": 186,
   "metadata": {},
   "outputs": [
    {
     "data": {
      "text/plain": [
       "{'train r2': 0.9722,\n",
       " 'test r2': 0.8023,\n",
       " 'train mse': 0.0124,\n",
       " 'test mse': 0.0804,\n",
       " 'train mae': 0.0843,\n",
       " 'test mae': 0.2241}"
      ]
     },
     "execution_count": 186,
     "metadata": {},
     "output_type": "execute_result"
    }
   ],
   "source": [
    "train_r2, test_r2 = round(best_model.score(X_train, y_train), 4), round(best_model.score(X_test, y_test), 4)\n",
    "y_train_pred, y_test_pred = best_model.predict(X_train), best_model.predict(X_test)\n",
    "train_mse, test_mse = round(mean_squared_error(y_train, y_train_pred), 4), round(mean_squared_error(y_test, y_test_pred), 4)\n",
    "train_mae, test_mae = round(mean_absolute_error(y_train, y_train_pred), 4), round(mean_absolute_error(y_test, y_test_pred), 4)\n",
    "\n",
    "{'train r2': train_r2, \n",
    "                'test r2': test_r2, \n",
    "                'train mse': train_mse,\n",
    "                'test mse': test_mse,\n",
    "                'train mae': train_mae,\n",
    "                'test mae': test_mae}\n"
   ]
  },
  {
   "cell_type": "code",
   "execution_count": 187,
   "metadata": {},
   "outputs": [],
   "source": [
    "evaluation_results = {'train r2': train_r2, \n",
    "                'test r2': test_r2, \n",
    "                'train mse': train_mse,\n",
    "                'test mse': test_mse,\n",
    "                'train mae': train_mae,\n",
    "                'test mae': test_mae}"
   ]
  },
  {
   "cell_type": "code",
   "execution_count": 188,
   "metadata": {},
   "outputs": [
    {
     "data": {
      "text/plain": [
       "{'min_samples_split': 2, 'min_samples_leaf': 1, 'max_features': 8}"
      ]
     },
     "execution_count": 188,
     "metadata": {},
     "output_type": "execute_result"
    }
   ],
   "source": [
    "random_search.best_params_"
   ]
  },
  {
   "cell_type": "code",
   "execution_count": 189,
   "metadata": {},
   "outputs": [],
   "source": [
    "running_time=456"
   ]
  },
  {
   "cell_type": "code",
   "execution_count": 190,
   "metadata": {},
   "outputs": [],
   "source": [
    "unstratified_results = evaluation_results\n",
    "unstratified_params = random_search.best_params_\n",
    "unstratified_running_time = running_time"
   ]
  },
  {
   "cell_type": "code",
   "execution_count": 191,
   "metadata": {},
   "outputs": [
    {
     "data": {
      "text/plain": [
       "{'Repetition 0': {'train r2': 0.9722,\n",
       "  'test r2': 0.8023,\n",
       "  'train mse': 0.0124,\n",
       "  'test mse': 0.0804,\n",
       "  'train mae': 0.0843,\n",
       "  'test mae': 0.2241}}"
      ]
     },
     "execution_count": 191,
     "metadata": {},
     "output_type": "execute_result"
    }
   ],
   "source": [
    "all_results.update({f'Repetition {repetition}': unstratified_results})\n",
    "all_results"
   ]
  },
  {
   "cell_type": "code",
   "execution_count": 192,
   "metadata": {},
   "outputs": [],
   "source": [
    "stratified=True"
   ]
  },
  {
   "cell_type": "code",
   "execution_count": 204,
   "metadata": {},
   "outputs": [
    {
     "data": {
      "text/plain": [
       "2331"
      ]
     },
     "execution_count": 204,
     "metadata": {},
     "output_type": "execute_result"
    }
   ],
   "source": [
    "random_states[repetition]"
   ]
  },
  {
   "cell_type": "code",
   "execution_count": 296,
   "metadata": {},
   "outputs": [
    {
     "name": "stdout",
     "output_type": "stream",
     "text": [
      "StratifiedKFold(n_splits=5, random_state=2331, shuffle=True)\n",
      "[ 8  7 17 19 13 15 15 11  8  1 15 13 14  6  5  3  4  9 16 14 17  0  1 10\n",
      " 12  9  8 11  6  1  7 18  2 10 11  0  5 15 12 13 11 13 14  5  5  4  3  7\n",
      "  1  1  9 19  3 11 14 16  8  0 15  5 14  7  6 17  0  3 14 12  9  4 16  7\n",
      " 12  1 16  6 17 19 19  2  9  9 13  8  2  7 18 15  7  7 12  9  6  7 16  5\n",
      " 18 10 19  1  8  0 10  9  0 18 12  4 15 13 13  5  4  2 19  2 12  7 10  4\n",
      " 14 17  9 18 15 11  3 10 15 13  0  2 13  2  4  8  3  2  0 11  8  0  6 17\n",
      "  5  8 10 19  0 17 16 18  6 18 16 10  5  6 15 10 18 13  1  2  3 11 10  3\n",
      " 12  4 11  8 17  1 14 19  2  4 12 11 14  6 16  6 17 18  3  9 19  4 16  5\n",
      "  1 16  3 12 18 14 19 17]\n",
      "[0. 0. 0. 0. 0. 0. 0. 0. 0. 0. 0. 0. 0. 0. 0. 0. 0. 0. 0. 0. 0. 0. 0. 0.\n",
      " 0. 0. 0. 0. 0. 0. 0. 0. 0. 0. 0. 0. 0. 0. 0. 0. 0. 0. 0. 0. 0. 0. 0. 0.\n",
      " 0. 0. 0. 0. 0. 0. 0. 0. 0. 0. 0. 0. 0. 0. 0. 0. 0. 0. 0. 0. 0. 0. 0. 0.\n",
      " 0. 0. 0. 0. 0. 0. 0. 0. 0. 0. 0. 0. 0. 0. 0. 0. 0. 0. 0. 0. 0. 0. 0. 0.\n",
      " 0. 0. 0. 0. 0. 0. 0. 0. 0. 0. 0. 0. 0. 0. 0. 0. 0. 0. 0. 0. 0. 0. 0. 0.\n",
      " 0. 0. 0. 0. 0. 0. 0. 0. 0. 0. 0. 0. 0. 0. 0. 0. 0. 0. 0. 0. 0. 0. 0. 0.\n",
      " 0. 0. 0. 0. 0. 0. 0. 0. 0. 0. 0. 0. 0. 0. 0. 0. 0. 0. 0. 0. 0. 0. 0. 0.\n",
      " 0. 0. 0. 0. 0. 0. 0. 0. 0. 0. 0. 0. 0. 0. 0. 0. 0. 0. 0. 0. 0. 0. 0. 0.\n",
      " 0. 0. 0. 0. 0. 0. 0. 0.]\n",
      "0\n",
      "[  0   1   5   7  14  20  30  38  39  40  44  45  64  72  73  91  94  99\n",
      " 101 103 107 109 128 137 145 146 147 151 152 155 163 164 167 180 181 182\n",
      " 196 197 198 199]\n",
      "1\n",
      "[  8  13  16  18  19  36  52  53  61  63  68  74  78  81  82  83  97 105\n",
      " 106 112 114 117 120 121 124 133 136 138 148 153 158 161 165 166 173 176\n",
      " 178 183 191 192]\n",
      "2\n",
      "[  3   9  10  11  15  21  24  32  35  46  49  50  51  56  66  71  75  79\n",
      "  80  87  90  93  95  96 118 129 134 139 144 154 157 159 160 171 172 174\n",
      " 177 179 184 193]\n",
      "3\n",
      "[ 12  22  23  26  27  28  29  31  33  41  42  43  57  58  70  84  86  88\n",
      "  89  92  98 100 104 108 111 113 116 119 122 125 126 132 143 149 186 187\n",
      " 188 189 190 195]\n",
      "4\n",
      "[  2   4   6  17  25  34  37  47  48  54  55  59  60  62  65  67  69  76\n",
      "  77  85 102 110 115 123 127 130 131 135 140 141 142 150 156 162 168 169\n",
      " 170 175 185 194]\n"
     ]
    }
   ],
   "source": [
    "if stratified:\n",
    "            cv_splits = create_cont_folds(y_train, n_folds=cv, n_groups=n_groups, seed=random_states[repetition])\n",
    "            output_text = 'Stratified Split Cross-validation'\n",
    "else:\n",
    "            cv_splits = cv\n",
    "            output_text = 'Random Split Cross-validation'"
   ]
  },
  {
   "cell_type": "code",
   "execution_count": 194,
   "metadata": {},
   "outputs": [
    {
     "data": {
      "text/plain": [
       "'Stratified Split Cross-validation'"
      ]
     },
     "execution_count": 194,
     "metadata": {},
     "output_type": "execute_result"
    }
   ],
   "source": [
    "output_text"
   ]
  },
  {
   "cell_type": "code",
   "execution_count": 201,
   "metadata": {},
   "outputs": [
    {
     "data": {
      "text/plain": [
       "array([  0,   3,   5,  14,  20,  22,  25,  31,  38,  42,  47,  53,  59,\n",
       "        65,  66,  70,  77,  80,  84,  86,  88,  94, 100, 102, 107, 109,\n",
       "       110, 130, 136, 138, 139, 142, 158, 166, 168, 169, 173, 176, 181,\n",
       "       199], dtype=int64)"
      ]
     },
     "execution_count": 201,
     "metadata": {},
     "output_type": "execute_result"
    }
   ],
   "source": [
    "cv_splits[1][1]"
   ]
  },
  {
   "cell_type": "code",
   "execution_count": 285,
   "metadata": {},
   "outputs": [
    {
     "name": "stdout",
     "output_type": "stream",
     "text": [
      "StratifiedKFold(n_splits=5, random_state=567, shuffle=True)\n"
     ]
    }
   ],
   "source": [
    "# create StratifiedKFold like for classification\n",
    "skf = StratifiedKFold(n_splits=n_folds, shuffle=True, random_state=seed\n",
    "                      )\n",
    "print(skf)\n",
    "        "
   ]
  },
  {
   "cell_type": "code",
   "execution_count": 286,
   "metadata": {},
   "outputs": [
    {
     "name": "stdout",
     "output_type": "stream",
     "text": [
      "[4 4 9 9 7 8 8 6 4 0 8 6 7 3 3 1 2 5 9 8 9 0 0 5 6 4 4 5 3 0 3 9 1 5 6 0 2\n",
      " 8 6 7 5 7 7 2 2 2 1 3 1 1]\n"
     ]
    }
   ],
   "source": [
    "# create groups in y with pd.qcut: quantile-based discretization \n",
    "y_grouped = pd.qcut(y_train, 10, labels=False)\n",
    "print(y_grouped)\n",
    "       "
   ]
  },
  {
   "cell_type": "code",
   "execution_count": 287,
   "metadata": {},
   "outputs": [
    {
     "data": {
      "text/plain": [
       "array([13.49675833, 13.14662867, 21.61486693, 23.37988677, 17.54568753,\n",
       "       19.37826373, 19.36857575, 15.99028952, 13.63930032,  6.73033621,\n",
       "       19.20636992, 16.77710628, 17.88559872, 12.64553682, 11.72190893,\n",
       "        8.51202173, 10.59627781, 14.32909554, 19.44540567, 18.64268771,\n",
       "       20.82860817,  6.6104277 ,  6.77997502, 15.40074227, 16.66265005,\n",
       "       14.1264292 , 13.49696747, 15.90746383, 12.43659789,  6.86946805,\n",
       "       12.71569569, 21.68660283,  8.10388496, 14.99274179, 16.1099137 ,\n",
       "        6.59792983, 11.49824735, 19.1618746 , 16.37216073, 17.62434253,\n",
       "       15.92798373, 17.27362973, 18.00311042, 11.03056273, 11.20698455,\n",
       "       10.28774508,  8.52559489, 12.9475875 ,  7.12901488,  7.55750945])"
      ]
     },
     "execution_count": 287,
     "metadata": {},
     "output_type": "execute_result"
    }
   ],
   "source": [
    "y_train"
   ]
  },
  {
   "cell_type": "code",
   "execution_count": 288,
   "metadata": {},
   "outputs": [
    {
     "name": "stdout",
     "output_type": "stream",
     "text": [
      "[0. 0. 0. 0. 0. 0. 0. 0. 0. 0. 0. 0. 0. 0. 0. 0. 0. 0. 0. 0. 0. 0. 0. 0.\n",
      " 0. 0. 0. 0. 0. 0. 0. 0. 0. 0. 0. 0. 0. 0. 0. 0. 0. 0. 0. 0. 0. 0. 0. 0.\n",
      " 0. 0.]\n"
     ]
    }
   ],
   "source": [
    " # create fold numbers    \n",
    "fold_nums = np.zeros(len(y_train))\n",
    "print(fold_nums)\n",
    "        "
   ]
  },
  {
   "cell_type": "code",
   "execution_count": 266,
   "metadata": {},
   "outputs": [
    {
     "data": {
      "text/plain": [
       "<generator object _BaseKFold.split at 0x0000022EBF3B5BE0>"
      ]
     },
     "execution_count": 266,
     "metadata": {},
     "output_type": "execute_result"
    }
   ],
   "source": [
    "skf.split(y_grouped, y_grouped)"
   ]
  },
  {
   "cell_type": "code",
   "execution_count": 289,
   "metadata": {},
   "outputs": [
    {
     "name": "stdout",
     "output_type": "stream",
     "text": [
      "fold_no: 0\n",
      "t and length t: 40 [ 0  2  3  4  5  6  8  9 10 11 12 13 15 16 17 18 22 23 24 25 26 28 29 30\n",
      " 31 32 33 34 35 36 37 38 40 41 42 43 45 46 47 49]\n",
      "v and length v: 10 [ 1  7 14 19 20 21 27 39 44 48]\n",
      "fold_no: 1\n",
      "t and length t: 40 [ 1  2  3  4  5  6  7  8  9 10 11 12 14 16 17 18 19 20 21 22 23 24 25 26\n",
      " 27 28 29 30 32 34 36 39 40 41 44 45 46 47 48 49]\n",
      "v and length v: 10 [ 0 13 15 31 33 35 37 38 42 43]\n",
      "fold_no: 2\n",
      "t and length t: 40 [ 0  1  2  4  6  7  9 10 11 12 13 14 15 16 18 19 20 21 23 25 26 27 28 29\n",
      " 30 31 33 34 35 37 38 39 40 42 43 44 45 46 48 49]\n",
      "v and length v: 10 [ 3  5  8 17 22 24 32 36 41 47]\n",
      "fold_no: 3\n",
      "t and length t: 40 [ 0  1  2  3  4  5  7  8 10 13 14 15 17 19 20 21 22 24 26 27 29 30 31 32\n",
      " 33 34 35 36 37 38 39 40 41 42 43 44 45 46 47 48]\n",
      "v and length v: 10 [ 6  9 11 12 16 18 23 25 28 49]\n",
      "fold_no: 4\n",
      "t and length t: 40 [ 0  1  3  5  6  7  8  9 11 12 13 14 15 16 17 18 19 20 21 22 23 24 25 27\n",
      " 28 31 32 33 35 36 37 38 39 41 42 43 44 47 48 49]\n",
      "v and length v: 10 [ 2  4 10 26 29 30 34 40 45 46]\n"
     ]
    }
   ],
   "source": [
    "#split(X, y[, groups]): Generate indices to split data into training and test set\n",
    "for fold_no, (t, v) in enumerate(skf.split(y_grouped, y_grouped)): #@Nadja: unabhängig von n_folds? n_folds = fol_no, test_data_size = N/n_folds\n",
    "    fold_nums[v] = fold_no\n",
    "    print('fold_no:', fold_no)\n",
    "    print('t and length t:', len(t), t)\n",
    "    print('v and length v:', len(v), v)\n",
    "    #print(v)\n",
    "\n"
   ]
  },
  {
   "cell_type": "code",
   "execution_count": 290,
   "metadata": {},
   "outputs": [
    {
     "data": {
      "text/plain": [
       "array([1., 0., 4., 2., 4., 2., 3., 0., 2., 3., 4., 3., 3., 1., 0., 1., 3.,\n",
       "       2., 3., 0., 0., 0., 2., 3., 2., 3., 4., 0., 3., 4., 4., 1., 2., 1.,\n",
       "       4., 1., 2., 1., 1., 0., 4., 2., 1., 1., 0., 4., 4., 2., 0., 3.])"
      ]
     },
     "execution_count": 290,
     "metadata": {},
     "output_type": "execute_result"
    }
   ],
   "source": [
    "fold_nums"
   ]
  },
  {
   "cell_type": "code",
   "execution_count": 282,
   "metadata": {},
   "outputs": [
    {
     "data": {
      "text/plain": [
       "array([13.49675833, 13.14662867, 21.61486693, 23.37988677, 17.54568753,\n",
       "       19.37826373, 19.36857575, 15.99028952, 13.63930032,  6.73033621,\n",
       "       19.20636992, 16.77710628, 17.88559872, 12.64553682, 11.72190893,\n",
       "        8.51202173, 10.59627781, 14.32909554, 19.44540567, 18.64268771,\n",
       "       20.82860817,  6.6104277 ,  6.77997502, 15.40074227, 16.66265005,\n",
       "       14.1264292 , 13.49696747, 15.90746383, 12.43659789,  6.86946805,\n",
       "       12.71569569, 21.68660283,  8.10388496, 14.99274179, 16.1099137 ,\n",
       "        6.59792983, 11.49824735, 19.1618746 , 16.37216073, 17.62434253,\n",
       "       15.92798373, 17.27362973, 18.00311042, 11.03056273, 11.20698455,\n",
       "       10.28774508,  8.52559489, 12.9475875 ,  7.12901488,  7.55750945])"
      ]
     },
     "execution_count": 282,
     "metadata": {},
     "output_type": "execute_result"
    }
   ],
   "source": [
    "y_train"
   ]
  },
  {
   "cell_type": "code",
   "execution_count": 295,
   "metadata": {},
   "outputs": [],
   "source": [
    "X_train, y_train = make_friedman1(n_samples=n_train,\n",
    "                                  n_features=n_features,\n",
    "                                    noise=noise,    \n",
    "                                    random_state=random_states[repetition])"
   ]
  },
  {
   "cell_type": "code",
   "execution_count": 294,
   "metadata": {},
   "outputs": [
    {
     "name": "stdout",
     "output_type": "stream",
     "text": [
      "Round: 0\n",
      "Test indices: [ 1  7 14 19 20 21 27 39 44 48]\n",
      "y value: [ 6.6104277   7.12901488 11.20698455 11.72190893 13.14662867 15.90746383\n",
      " 15.99028952 17.62434253 18.64268771 20.82860817]\n",
      "y group: [0 1 2 3 4 5 6 7 8 9]\n",
      "Train group: [0 0 0 0 1 1 1 1 2 2 2 2 3 3 3 3 4 4 4 4 5 5 5 5 6 6 6 6 7 7 7 7 8 8 8 8 9\n",
      " 9 9 9]\n",
      "Round: 1\n",
      "Test indices: [ 0 13 15 31 33 35 37 38 42 43]\n",
      "y value: [ 6.59792983  8.51202173 11.03056273 12.64553682 13.49675833 14.99274179\n",
      " 16.37216073 18.00311042 19.1618746  21.68660283]\n",
      "y group: [0 1 2 3 4 5 6 7 8 9]\n",
      "Train group: [0 0 0 0 1 1 1 1 2 2 2 2 3 3 3 3 4 4 4 4 5 5 5 5 6 6 6 6 7 7 7 7 8 8 8 8 9\n",
      " 9 9 9]\n",
      "Round: 2\n",
      "Test indices: [ 3  5  8 17 22 24 32 36 41 47]\n",
      "y value: [ 6.77997502  8.10388496 11.49824735 12.9475875  13.63930032 14.32909554\n",
      " 16.66265005 17.27362973 19.37826373 23.37988677]\n",
      "y group: [0 1 2 3 4 5 6 7 8 9]\n",
      "Train group: [0 0 0 0 1 1 1 1 2 2 2 2 3 3 3 3 4 4 4 4 5 5 5 5 6 6 6 6 7 7 7 7 8 8 8 8 9\n",
      " 9 9 9]\n",
      "Round: 3\n",
      "Test indices: [ 6  9 11 12 16 18 23 25 28 49]\n",
      "y value: [ 6.73033621  7.55750945 10.59627781 12.43659789 14.1264292  15.40074227\n",
      " 16.77710628 17.88559872 19.36857575 19.44540567]\n",
      "y group: [0 1 2 3 4 5 6 7 8 9]\n",
      "Train group: [0 0 0 0 1 1 1 1 2 2 2 2 3 3 3 3 4 4 4 4 5 5 5 5 6 6 6 6 7 7 7 7 8 8 8 8 9\n",
      " 9 9 9]\n",
      "Round: 4\n",
      "Test indices: [ 2  4 10 26 29 30 34 40 45 46]\n",
      "y value: [ 6.86946805  8.52559489 10.28774508 12.71569569 13.49696747 15.92798373\n",
      " 16.1099137  17.54568753 19.20636992 21.61486693]\n",
      "y group: [0 1 2 3 4 5 6 7 8 9]\n",
      "Train group: [0 0 0 0 1 1 1 1 2 2 2 2 3 3 3 3 4 4 4 4 5 5 5 5 6 6 6 6 7 7 7 7 8 8 8 8 9\n",
      " 9 9 9]\n"
     ]
    }
   ],
   "source": [
    "cv_splits = []\n",
    "\n",
    "        # iterate over folds and creat train and test indices for each fold\n",
    "for i in range(n_folds):\n",
    "            print('Round:', i)\n",
    "            test_indices = np.argwhere(fold_nums==i).flatten()\n",
    "            print('Test indices:', np.sort(test_indices))\n",
    "            print('y value:', np.sort(y_train[test_indices]))\n",
    "            print('y group:', np.sort(y_grouped[test_indices]))\n",
    "            train_indices = list(set(range(len(y_grouped))) - set(test_indices))\n",
    "            print('Train group:', np.sort(y_grouped[train_indices]))\n",
    "            cv_splits.append((train_indices, test_indices))\n",
    "\n",
    "        "
   ]
  },
  {
   "cell_type": "code",
   "execution_count": 258,
   "metadata": {},
   "outputs": [
    {
     "data": {
      "text/plain": [
       "array([ 4.82497505,  6.08889195,  6.59792983,  6.68591062,  7.66597144,\n",
       "        7.72432815,  8.39301407,  8.51202173, 10.5509058 , 10.75454524,\n",
       "       11.20698455, 11.34732579, 12.08296937, 12.11582259, 12.893331  ,\n",
       "       13.2717783 , 13.63930032, 14.0208369 , 14.24681185, 14.71496762,\n",
       "       14.98657953, 15.62506901, 15.99564608, 16.09446808, 16.63470347,\n",
       "       16.77710628, 17.27362973, 17.43843385, 18.57870544, 19.18241889,\n",
       "       19.29274193, 19.36857575, 19.74837384, 20.03128596, 20.79933633,\n",
       "       20.82860817, 21.66970158, 21.68660283, 23.19898683, 24.74116702])"
      ]
     },
     "execution_count": 258,
     "metadata": {},
     "output_type": "execute_result"
    }
   ],
   "source": [
    "np.sort(y_train[test_indices])"
   ]
  },
  {
   "cell_type": "code",
   "execution_count": 312,
   "metadata": {},
   "outputs": [
    {
     "data": {
      "text/plain": [
       "567"
      ]
     },
     "execution_count": 312,
     "metadata": {},
     "output_type": "execute_result"
    }
   ],
   "source": [
    "seed"
   ]
  },
  {
   "cell_type": "code",
   "execution_count": 297,
   "metadata": {},
   "outputs": [],
   "source": [
    "random_search = RandomizedSearchCV(estimator=RandomForestRegressor(n_estimators=1000, random_state=seed),\n",
    "                                           param_distributions=RF_param_grid,\n",
    "                                           n_iter=n_iter,\n",
    "                                           cv=cv_splits,\n",
    "                                           scoring=scoring,\n",
    "                                           n_jobs=n_jobs,\n",
    "                                           random_state=random_states[repetition])"
   ]
  },
  {
   "cell_type": "code",
   "execution_count": 299,
   "metadata": {},
   "outputs": [
    {
     "data": {
      "text/plain": [
       "'Stratified Split Cross-validation'"
      ]
     },
     "execution_count": 299,
     "metadata": {},
     "output_type": "execute_result"
    }
   ],
   "source": [
    "output_text"
   ]
  },
  {
   "cell_type": "code",
   "execution_count": 300,
   "metadata": {},
   "outputs": [
    {
     "data": {
      "text/html": [
       "<style>#sk-container-id-3 {color: black;}#sk-container-id-3 pre{padding: 0;}#sk-container-id-3 div.sk-toggleable {background-color: white;}#sk-container-id-3 label.sk-toggleable__label {cursor: pointer;display: block;width: 100%;margin-bottom: 0;padding: 0.3em;box-sizing: border-box;text-align: center;}#sk-container-id-3 label.sk-toggleable__label-arrow:before {content: \"▸\";float: left;margin-right: 0.25em;color: #696969;}#sk-container-id-3 label.sk-toggleable__label-arrow:hover:before {color: black;}#sk-container-id-3 div.sk-estimator:hover label.sk-toggleable__label-arrow:before {color: black;}#sk-container-id-3 div.sk-toggleable__content {max-height: 0;max-width: 0;overflow: hidden;text-align: left;background-color: #f0f8ff;}#sk-container-id-3 div.sk-toggleable__content pre {margin: 0.2em;color: black;border-radius: 0.25em;background-color: #f0f8ff;}#sk-container-id-3 input.sk-toggleable__control:checked~div.sk-toggleable__content {max-height: 200px;max-width: 100%;overflow: auto;}#sk-container-id-3 input.sk-toggleable__control:checked~label.sk-toggleable__label-arrow:before {content: \"▾\";}#sk-container-id-3 div.sk-estimator input.sk-toggleable__control:checked~label.sk-toggleable__label {background-color: #d4ebff;}#sk-container-id-3 div.sk-label input.sk-toggleable__control:checked~label.sk-toggleable__label {background-color: #d4ebff;}#sk-container-id-3 input.sk-hidden--visually {border: 0;clip: rect(1px 1px 1px 1px);clip: rect(1px, 1px, 1px, 1px);height: 1px;margin: -1px;overflow: hidden;padding: 0;position: absolute;width: 1px;}#sk-container-id-3 div.sk-estimator {font-family: monospace;background-color: #f0f8ff;border: 1px dotted black;border-radius: 0.25em;box-sizing: border-box;margin-bottom: 0.5em;}#sk-container-id-3 div.sk-estimator:hover {background-color: #d4ebff;}#sk-container-id-3 div.sk-parallel-item::after {content: \"\";width: 100%;border-bottom: 1px solid gray;flex-grow: 1;}#sk-container-id-3 div.sk-label:hover label.sk-toggleable__label {background-color: #d4ebff;}#sk-container-id-3 div.sk-serial::before {content: \"\";position: absolute;border-left: 1px solid gray;box-sizing: border-box;top: 0;bottom: 0;left: 50%;z-index: 0;}#sk-container-id-3 div.sk-serial {display: flex;flex-direction: column;align-items: center;background-color: white;padding-right: 0.2em;padding-left: 0.2em;position: relative;}#sk-container-id-3 div.sk-item {position: relative;z-index: 1;}#sk-container-id-3 div.sk-parallel {display: flex;align-items: stretch;justify-content: center;background-color: white;position: relative;}#sk-container-id-3 div.sk-item::before, #sk-container-id-3 div.sk-parallel-item::before {content: \"\";position: absolute;border-left: 1px solid gray;box-sizing: border-box;top: 0;bottom: 0;left: 50%;z-index: -1;}#sk-container-id-3 div.sk-parallel-item {display: flex;flex-direction: column;z-index: 1;position: relative;background-color: white;}#sk-container-id-3 div.sk-parallel-item:first-child::after {align-self: flex-end;width: 50%;}#sk-container-id-3 div.sk-parallel-item:last-child::after {align-self: flex-start;width: 50%;}#sk-container-id-3 div.sk-parallel-item:only-child::after {width: 0;}#sk-container-id-3 div.sk-dashed-wrapped {border: 1px dashed gray;margin: 0 0.4em 0.5em 0.4em;box-sizing: border-box;padding-bottom: 0.4em;background-color: white;}#sk-container-id-3 div.sk-label label {font-family: monospace;font-weight: bold;display: inline-block;line-height: 1.2em;}#sk-container-id-3 div.sk-label-container {text-align: center;}#sk-container-id-3 div.sk-container {/* jupyter's `normalize.less` sets `[hidden] { display: none; }` but bootstrap.min.css set `[hidden] { display: none !important; }` so we also need the `!important` here to be able to override the default hidden behavior on the sphinx rendered scikit-learn.org. See: https://github.com/scikit-learn/scikit-learn/issues/21755 */display: inline-block !important;position: relative;}#sk-container-id-3 div.sk-text-repr-fallback {display: none;}</style><div id=\"sk-container-id-3\" class=\"sk-top-container\"><div class=\"sk-text-repr-fallback\"><pre>RandomizedSearchCV(cv=[([2, 3, 4, 6, 8, 9, 10, 11, 12, 13, 15, 16, 17, 18, 19,\n",
       "                         21, 22, 23, 24, 25, 26, 27, 28, 29, 31, 32, 33, 34, 35,\n",
       "                         36, ...],\n",
       "                        array([  0,   1,   5,   7,  14,  20,  30,  38,  39,  40,  44,  45,  64,\n",
       "        72,  73,  91,  94,  99, 101, 103, 107, 109, 128, 137, 145, 146,\n",
       "       147, 151, 152, 155, 163, 164, 167, 180, 181, 182, 196, 197, 198,\n",
       "       199], dtype=int64)),\n",
       "                       ([0, 1, 2, 3, 4, 5, 6, 7, 9, 10, 11, 12, 14, 15, 17, 20,\n",
       "                         21, 22, 23, 24, 25, 26, 27, 28, 29, 30, 31, 32...\n",
       "                   estimator=RandomForestRegressor(n_estimators=1000,\n",
       "                                                   random_state=567),\n",
       "                   n_iter=200, n_jobs=-1,\n",
       "                   param_distributions={&#x27;max_features&#x27;: array([ 1,  2,  3,  4,  5,  6,  7,  8,  9, 10]),\n",
       "                                        &#x27;min_samples_leaf&#x27;: array([ 1,  2,  3,  4,  5,  6,  7,  8,  9, 10, 11, 12, 13, 14, 15, 16, 17,\n",
       "       18, 19, 20]),\n",
       "                                        &#x27;min_samples_split&#x27;: array([ 2,  3,  4,  5,  6,  7,  8,  9, 10, 11, 12, 13, 14, 15, 16, 17, 18,\n",
       "       19, 20])},\n",
       "                   random_state=2331, scoring=&#x27;neg_mean_squared_error&#x27;)</pre><b>In a Jupyter environment, please rerun this cell to show the HTML representation or trust the notebook. <br />On GitHub, the HTML representation is unable to render, please try loading this page with nbviewer.org.</b></div><div class=\"sk-container\" hidden><div class=\"sk-item sk-dashed-wrapped\"><div class=\"sk-label-container\"><div class=\"sk-label sk-toggleable\"><input class=\"sk-toggleable__control sk-hidden--visually\" id=\"sk-estimator-id-5\" type=\"checkbox\" ><label for=\"sk-estimator-id-5\" class=\"sk-toggleable__label sk-toggleable__label-arrow\">RandomizedSearchCV</label><div class=\"sk-toggleable__content\"><pre>RandomizedSearchCV(cv=[([2, 3, 4, 6, 8, 9, 10, 11, 12, 13, 15, 16, 17, 18, 19,\n",
       "                         21, 22, 23, 24, 25, 26, 27, 28, 29, 31, 32, 33, 34, 35,\n",
       "                         36, ...],\n",
       "                        array([  0,   1,   5,   7,  14,  20,  30,  38,  39,  40,  44,  45,  64,\n",
       "        72,  73,  91,  94,  99, 101, 103, 107, 109, 128, 137, 145, 146,\n",
       "       147, 151, 152, 155, 163, 164, 167, 180, 181, 182, 196, 197, 198,\n",
       "       199], dtype=int64)),\n",
       "                       ([0, 1, 2, 3, 4, 5, 6, 7, 9, 10, 11, 12, 14, 15, 17, 20,\n",
       "                         21, 22, 23, 24, 25, 26, 27, 28, 29, 30, 31, 32...\n",
       "                   estimator=RandomForestRegressor(n_estimators=1000,\n",
       "                                                   random_state=567),\n",
       "                   n_iter=200, n_jobs=-1,\n",
       "                   param_distributions={&#x27;max_features&#x27;: array([ 1,  2,  3,  4,  5,  6,  7,  8,  9, 10]),\n",
       "                                        &#x27;min_samples_leaf&#x27;: array([ 1,  2,  3,  4,  5,  6,  7,  8,  9, 10, 11, 12, 13, 14, 15, 16, 17,\n",
       "       18, 19, 20]),\n",
       "                                        &#x27;min_samples_split&#x27;: array([ 2,  3,  4,  5,  6,  7,  8,  9, 10, 11, 12, 13, 14, 15, 16, 17, 18,\n",
       "       19, 20])},\n",
       "                   random_state=2331, scoring=&#x27;neg_mean_squared_error&#x27;)</pre></div></div></div><div class=\"sk-parallel\"><div class=\"sk-parallel-item\"><div class=\"sk-item\"><div class=\"sk-label-container\"><div class=\"sk-label sk-toggleable\"><input class=\"sk-toggleable__control sk-hidden--visually\" id=\"sk-estimator-id-6\" type=\"checkbox\" ><label for=\"sk-estimator-id-6\" class=\"sk-toggleable__label sk-toggleable__label-arrow\">estimator: RandomForestRegressor</label><div class=\"sk-toggleable__content\"><pre>RandomForestRegressor(n_estimators=1000, random_state=567)</pre></div></div></div><div class=\"sk-serial\"><div class=\"sk-item\"><div class=\"sk-estimator sk-toggleable\"><input class=\"sk-toggleable__control sk-hidden--visually\" id=\"sk-estimator-id-7\" type=\"checkbox\" ><label for=\"sk-estimator-id-7\" class=\"sk-toggleable__label sk-toggleable__label-arrow\">RandomForestRegressor</label><div class=\"sk-toggleable__content\"><pre>RandomForestRegressor(n_estimators=1000, random_state=567)</pre></div></div></div></div></div></div></div></div></div></div>"
      ],
      "text/plain": [
       "RandomizedSearchCV(cv=[([2, 3, 4, 6, 8, 9, 10, 11, 12, 13, 15, 16, 17, 18, 19,\n",
       "                         21, 22, 23, 24, 25, 26, 27, 28, 29, 31, 32, 33, 34, 35,\n",
       "                         36, ...],\n",
       "                        array([  0,   1,   5,   7,  14,  20,  30,  38,  39,  40,  44,  45,  64,\n",
       "        72,  73,  91,  94,  99, 101, 103, 107, 109, 128, 137, 145, 146,\n",
       "       147, 151, 152, 155, 163, 164, 167, 180, 181, 182, 196, 197, 198,\n",
       "       199], dtype=int64)),\n",
       "                       ([0, 1, 2, 3, 4, 5, 6, 7, 9, 10, 11, 12, 14, 15, 17, 20,\n",
       "                         21, 22, 23, 24, 25, 26, 27, 28, 29, 30, 31, 32...\n",
       "                   estimator=RandomForestRegressor(n_estimators=1000,\n",
       "                                                   random_state=567),\n",
       "                   n_iter=200, n_jobs=-1,\n",
       "                   param_distributions={'max_features': array([ 1,  2,  3,  4,  5,  6,  7,  8,  9, 10]),\n",
       "                                        'min_samples_leaf': array([ 1,  2,  3,  4,  5,  6,  7,  8,  9, 10, 11, 12, 13, 14, 15, 16, 17,\n",
       "       18, 19, 20]),\n",
       "                                        'min_samples_split': array([ 2,  3,  4,  5,  6,  7,  8,  9, 10, 11, 12, 13, 14, 15, 16, 17, 18,\n",
       "       19, 20])},\n",
       "                   random_state=2331, scoring='neg_mean_squared_error')"
      ]
     },
     "execution_count": 300,
     "metadata": {},
     "output_type": "execute_result"
    }
   ],
   "source": [
    "random_search.fit(X_train, y_train)"
   ]
  },
  {
   "cell_type": "code",
   "execution_count": 311,
   "metadata": {},
   "outputs": [],
   "source": [
    "best_model=random_search.best_estimator_\n",
    "train_r2, test_r2 = round(best_model.score(X_train, y_train), 4), round(best_model.score(X_test, y_test), 4)\n",
    "y_train_pred, y_test_pred = best_model.predict(X_train), best_model.predict(X_test)\n",
    "train_mse, test_mse = round(mean_squared_error(y_train, y_train_pred), 4), round(mean_squared_error(y_test, y_test_pred), 4)\n",
    "train_mae, test_mae = round(mean_absolute_error(y_train, y_train_pred), 4), round(mean_absolute_error(y_test, y_test_pred), 4)\n",
    "stratified_results = {'train r2': train_r2, \n",
    "                'test r2': test_r2, \n",
    "                'train mse': train_mse,\n",
    "                'test mse': test_mse,\n",
    "                'train mae': train_mae,\n",
    "                'test mae': test_mae}"
   ]
  },
  {
   "cell_type": "code",
   "execution_count": 306,
   "metadata": {},
   "outputs": [
    {
     "data": {
      "text/plain": [
       "{'train r2': 0.973,\n",
       " 'test r2': -295.5191,\n",
       " 'train mse': 0.7124,\n",
       " 'test mse': 120.607,\n",
       " 'train mae': 0.6516,\n",
       " 'test mae': 10.4731}"
      ]
     },
     "execution_count": 306,
     "metadata": {},
     "output_type": "execute_result"
    }
   ],
   "source": [
    "stratified_results"
   ]
  },
  {
   "cell_type": "code",
   "execution_count": 310,
   "metadata": {},
   "outputs": [
    {
     "data": {
      "text/plain": [
       "-5.234035981477888"
      ]
     },
     "execution_count": 310,
     "metadata": {},
     "output_type": "execute_result"
    }
   ],
   "source": [
    "random_search.best_score_"
   ]
  },
  {
   "cell_type": "code",
   "execution_count": 302,
   "metadata": {},
   "outputs": [],
   "source": [
    "stratified_params = random_search.best_params_\n",
    "stratified_running_time = 457"
   ]
  },
  {
   "cell_type": "code",
   "execution_count": 303,
   "metadata": {},
   "outputs": [
    {
     "data": {
      "text/plain": [
       "{'Repetition 0': {'train r2': 0.973,\n",
       "  'test r2': -295.5191,\n",
       "  'train mse': 0.7124,\n",
       "  'test mse': 120.607,\n",
       "  'train mae': 0.6516,\n",
       "  'test mae': 10.4731}}"
      ]
     },
     "execution_count": 303,
     "metadata": {},
     "output_type": "execute_result"
    }
   ],
   "source": [
    "all_results_stratified.update({f'Repetition {repetition}': stratified_results}) \n",
    "all_results_stratified"
   ]
  },
  {
   "cell_type": "code",
   "execution_count": 305,
   "metadata": {},
   "outputs": [
    {
     "data": {
      "text/plain": [
       "{'Repetition 0': {'train r2': 0.9722,\n",
       "  'test r2': 0.8023,\n",
       "  'train mse': 0.0124,\n",
       "  'test mse': 0.0804,\n",
       "  'train mae': 0.0843,\n",
       "  'test mae': 0.2241}}"
      ]
     },
     "execution_count": 305,
     "metadata": {},
     "output_type": "execute_result"
    }
   ],
   "source": [
    "all_results"
   ]
  },
  {
   "cell_type": "code",
   "execution_count": 304,
   "metadata": {},
   "outputs": [
    {
     "data": {
      "text/plain": [
       "True"
      ]
     },
     "execution_count": 304,
     "metadata": {},
     "output_type": "execute_result"
    }
   ],
   "source": [
    "if unstratified_params == stratified_params:\n",
    "                hyperparameters_same = True\n",
    "else:\n",
    "                hyperparameters_same = False\n",
    "\n",
    "hyperparameters_same"
   ]
  },
  {
   "cell_type": "code",
   "execution_count": 323,
   "metadata": {},
   "outputs": [],
   "source": [
    "results = {\n",
    "                'repetition': repetition,\n",
    "                'random_state': random_states[repetition],\n",
    "                'hyperparameters_same': hyperparameters_same,\n",
    "                'unstratified_params':unstratified_params,\n",
    "                'stratified_params': stratified_params,\n",
    "                'unstratified_results': unstratified_results,\n",
    "                'stratified_results': stratified_results,\n",
    "                'unstratified_running_time': round(unstratified_running_time,2), \n",
    "                'stratified_running_time': round(stratified_running_time, 2)\n",
    "            }"
   ]
  },
  {
   "cell_type": "code",
   "execution_count": 308,
   "metadata": {},
   "outputs": [
    {
     "data": {
      "text/plain": [
       "{'model_info': {'model': 'RandomForestRegressor',\n",
       "  'n_train': 200,\n",
       "  'n_test': 100000,\n",
       "  'n_features': 10,\n",
       "  'FD_noise': 0,\n",
       "  'transformation': 'sqrt',\n",
       "  'n_groups': 20,\n",
       "  'n_folds': 5,\n",
       "  'n_iter': 200,\n",
       "  'n_repetitions': 10,\n",
       "  'scoring': 'neg_mean_squared_error',\n",
       "  'n_jobs': -1,\n",
       "  'json_file': './results-RF-anne.json'},\n",
       " 'seed': 567,\n",
       " 'repetition': 0,\n",
       " 'random_state': 2331,\n",
       " 'hyperparameters_same': True,\n",
       " 'unstratified_params': {'min_samples_split': 2,\n",
       "  'min_samples_leaf': 1,\n",
       "  'max_features': 8},\n",
       " 'stratified_params': {'min_samples_split': 2,\n",
       "  'min_samples_leaf': 1,\n",
       "  'max_features': 8},\n",
       " 'unstratified_results': {'train r2': 0.9722,\n",
       "  'test r2': 0.8023,\n",
       "  'train mse': 0.0124,\n",
       "  'test mse': 0.0804,\n",
       "  'train mae': 0.0843,\n",
       "  'test mae': 0.2241},\n",
       " 'stratified_results': {'train r2': 0.973,\n",
       "  'test r2': -295.5191,\n",
       "  'train mse': 0.7124,\n",
       "  'test mse': 120.607,\n",
       "  'train mae': 0.6516,\n",
       "  'test mae': 10.4731},\n",
       " 'unstratified_running_time': 456,\n",
       " 'stratified_running_time': 457}"
      ]
     },
     "execution_count": 308,
     "metadata": {},
     "output_type": "execute_result"
    }
   ],
   "source": [
    "initialization.update(results)\n",
    "initialization"
   ]
  },
  {
   "cell_type": "code",
   "execution_count": 313,
   "metadata": {},
   "outputs": [],
   "source": [
    "repetition=1"
   ]
  },
  {
   "cell_type": "code",
   "execution_count": 324,
   "metadata": {},
   "outputs": [
    {
     "data": {
      "text/plain": [
       "{'repetition': 1,\n",
       " 'random_state': 5223,\n",
       " 'hyperparameters_same': True,\n",
       " 'unstratified_params': {'min_samples_split': 2,\n",
       "  'min_samples_leaf': 1,\n",
       "  'max_features': 8},\n",
       " 'stratified_params': {'min_samples_split': 2,\n",
       "  'min_samples_leaf': 1,\n",
       "  'max_features': 8},\n",
       " 'unstratified_results': {'train r2': 0.9722,\n",
       "  'test r2': 0.8023,\n",
       "  'train mse': 0.0124,\n",
       "  'test mse': 0.0804,\n",
       "  'train mae': 0.0843,\n",
       "  'test mae': 0.2241},\n",
       " 'stratified_results': {'train r2': 0.973,\n",
       "  'test r2': -295.5191,\n",
       "  'train mse': 0.7124,\n",
       "  'test mse': 120.607,\n",
       "  'train mae': 0.6516,\n",
       "  'test mae': 10.4731},\n",
       " 'unstratified_running_time': 456,\n",
       " 'stratified_running_time': 457}"
      ]
     },
     "execution_count": 324,
     "metadata": {},
     "output_type": "execute_result"
    }
   ],
   "source": [
    "results"
   ]
  },
  {
   "cell_type": "code",
   "execution_count": 326,
   "metadata": {},
   "outputs": [],
   "source": [
    "json_file='./test.json'"
   ]
  },
  {
   "cell_type": "code",
   "execution_count": 332,
   "metadata": {},
   "outputs": [
    {
     "data": {
      "text/plain": [
       "[{'model_info': {'model': 'RandomForestRegressor',\n",
       "   'n_train': 200,\n",
       "   'n_test': 100000,\n",
       "   'n_features': 10,\n",
       "   'FD_noise': 0,\n",
       "   'transformation': 'sqrt',\n",
       "   'n_groups': 20,\n",
       "   'n_folds': 5,\n",
       "   'n_iter': 200,\n",
       "   'n_repetitions': 10,\n",
       "   'scoring': 'neg_mean_squared_error',\n",
       "   'n_jobs': -1,\n",
       "   'json_file': './results-RF-anne.json'},\n",
       "  'seed': 567,\n",
       "  'repetition': 0,\n",
       "  'random_state': 2331,\n",
       "  'hyperparameters_same': True,\n",
       "  'unstratified_params': {'min_samples_split': 2,\n",
       "   'min_samples_leaf': 1,\n",
       "   'max_features': 8},\n",
       "  'stratified_params': {'min_samples_split': 2,\n",
       "   'min_samples_leaf': 1,\n",
       "   'max_features': 8},\n",
       "  'unstratified_results': {'train r2': 0.9722,\n",
       "   'test r2': 0.8023,\n",
       "   'train mse': 0.0124,\n",
       "   'test mse': 0.0804,\n",
       "   'train mae': 0.0843,\n",
       "   'test mae': 0.2241},\n",
       "  'stratified_results': {'train r2': 0.973,\n",
       "   'test r2': -295.5191,\n",
       "   'train mse': 0.7124,\n",
       "   'test mse': 120.607,\n",
       "   'train mae': 0.6516,\n",
       "   'test mae': 10.4731},\n",
       "  'unstratified_running_time': 456,\n",
       "  'stratified_running_time': 457}]"
      ]
     },
     "execution_count": 332,
     "metadata": {},
     "output_type": "execute_result"
    }
   ],
   "source": [
    "with open(json_file, 'r') as file:\n",
    "    existing_data = json.load(file)\n",
    "existing_data"
   ]
  },
  {
   "cell_type": "code",
   "execution_count": 333,
   "metadata": {},
   "outputs": [],
   "source": [
    "existing_data.append(initialization)"
   ]
  },
  {
   "cell_type": "code",
   "execution_count": 334,
   "metadata": {},
   "outputs": [],
   "source": [
    "with open(json_file, 'w') as file:\n",
    "                json.dump(existing_data, file, indent=4, default=_convert_numpy_types)\n"
   ]
  },
  {
   "cell_type": "code",
   "execution_count": null,
   "metadata": {},
   "outputs": [],
   "source": []
  },
  {
   "cell_type": "code",
   "execution_count": 331,
   "metadata": {},
   "outputs": [
    {
     "data": {
      "application/json": {
       "hyperparameters_same": true,
       "model_info": {
        "FD_noise": 0,
        "json_file": "./results-RF-anne.json",
        "model": "RandomForestRegressor",
        "n_features": 10,
        "n_folds": 5,
        "n_groups": 20,
        "n_iter": 200,
        "n_jobs": -1,
        "n_repetitions": 10,
        "n_test": 100000,
        "n_train": 200,
        "scoring": "neg_mean_squared_error",
        "transformation": "sqrt"
       },
       "random_state": 5223,
       "repetition": 1,
       "seed": 567,
       "stratified_params": {
        "max_features": 8,
        "min_samples_leaf": 1,
        "min_samples_split": 2
       },
       "stratified_results": {
        "test mae": 10.4731,
        "test mse": 120.607,
        "test r2": -295.5191,
        "train mae": 0.6516,
        "train mse": 0.7124,
        "train r2": 0.973
       },
       "stratified_running_time": 457,
       "unstratified_params": {
        "max_features": 8,
        "min_samples_leaf": 1,
        "min_samples_split": 2
       },
       "unstratified_results": {
        "test mae": 0.2241,
        "test mse": 0.0804,
        "test r2": 0.8023,
        "train mae": 0.0843,
        "train mse": 0.0124,
        "train r2": 0.9722
       },
       "unstratified_running_time": 456
      },
      "text/plain": [
       "<IPython.core.display.JSON object>"
      ]
     },
     "metadata": {
      "application/json": {
       "expanded": false,
       "root": "root"
      }
     },
     "output_type": "display_data"
    }
   ],
   "source": [
    "initialization.update(results)\n",
    "display(JSON(initialization))"
   ]
  },
  {
   "cell_type": "code",
   "execution_count": 321,
   "metadata": {},
   "outputs": [],
   "source": [
    "from IPython.display import display, JSON"
   ]
  },
  {
   "cell_type": "code",
   "execution_count": 322,
   "metadata": {},
   "outputs": [
    {
     "data": {
      "application/json": {
       "hyperparameters_same": true,
       "model_info": {
        "FD_noise": 0,
        "json_file": "./results-RF-anne.json",
        "model": "RandomForestRegressor",
        "n_features": 10,
        "n_folds": 5,
        "n_groups": 20,
        "n_iter": 200,
        "n_jobs": -1,
        "n_repetitions": 10,
        "n_test": 100000,
        "n_train": 200,
        "scoring": "neg_mean_squared_error",
        "transformation": "sqrt"
       },
       "random_state": 2331,
       "repetition": 0,
       "seed": 567,
       "stratified_params": {
        "max_features": 8,
        "min_samples_leaf": 1,
        "min_samples_split": 2
       },
       "stratified_results": {
        "test mae": 10.4731,
        "test mse": 120.607,
        "test r2": -295.5191,
        "train mae": 0.6516,
        "train mse": 0.7124,
        "train r2": 0.973
       },
       "stratified_running_time": 457,
       "unstratified_params": {
        "max_features": 8,
        "min_samples_leaf": 1,
        "min_samples_split": 2
       },
       "unstratified_results": {
        "test mae": 0.2241,
        "test mse": 0.0804,
        "test r2": 0.8023,
        "train mae": 0.0843,
        "train mse": 0.0124,
        "train r2": 0.9722
       },
       "unstratified_running_time": 456
      },
      "text/plain": [
       "<IPython.core.display.JSON object>"
      ]
     },
     "metadata": {
      "application/json": {
       "expanded": false,
       "root": "root"
      }
     },
     "output_type": "display_data"
    }
   ],
   "source": [
    "display(JSON(initialization))"
   ]
  },
  {
   "cell_type": "code",
   "execution_count": 209,
   "metadata": {},
   "outputs": [],
   "source": [
    "def create_cont_folds(y, \n",
    "                          n_folds, \n",
    "                          n_groups, \n",
    "                          seed):\n",
    "        '''\n",
    "        Function to create continuous folds.\n",
    "        Inputs:\n",
    "            y: the target variable\n",
    "            n_folds: the number of folds\n",
    "            n_groups: the number of groups (based on quantiles)\n",
    "            seed: the seed to be used\n",
    "        Outputs:\n",
    "            cv_splits: the indices for the folds\n",
    "        '''\n",
    "        # create StratifiedKFold like for classification\n",
    "        skf = StratifiedKFold(n_splits=n_folds, shuffle=True, random_state=seed)\n",
    "        print(skf)\n",
    "        # create groups in y with pd.qcut: quantile-based discretization \n",
    "        y_grouped = pd.qcut(y, n_groups, labels=False)\n",
    "        print(y_grouped)\n",
    "        # create fold numbers    \n",
    "        fold_nums = np.zeros(len(y))\n",
    "        print(fold_nums)\n",
    "        #split(X, y[, groups]): Generate indices to split data into training and test set\n",
    "        for fold_no, (t, v) in enumerate(skf.split(y_grouped, y_grouped)): #@Nadja: unabhängig von n_folds? n_folds = fol_no, test_data_size = N/n_folds\n",
    "            fold_nums[v] = fold_no\n",
    "            print(fold_no)\n",
    "            print(v)\n",
    "\n",
    "        cv_splits = []\n",
    "\n",
    "        # iterate over folds and creat train and test indices for each fold\n",
    "        for i in range(n_folds):\n",
    "            test_indices = np.argwhere(fold_nums==i).flatten()\n",
    "            train_indices = list(set(range(len(y_grouped))) - set(test_indices))\n",
    "            cv_splits.append((train_indices, test_indices))\n",
    "\n",
    "        return cv_splits"
   ]
  },
  {
   "cell_type": "code",
   "execution_count": 30,
   "metadata": {},
   "outputs": [],
   "source": [
    "def generate_friedman1(n_samples, n_features, noise, random_state, transformation='identity'):\n",
    "        '''\n",
    "        Function to generate dataset according to Friedman1.\n",
    "        Inputs:\n",
    "            n_samples: number of data points\n",
    "            n_features: number of features (have to be at least 5)\n",
    "            noise: The standard deviation of the gaussian noise applied to the output.\n",
    "            random_state: to repreoduce dataset\n",
    "        Outputs:\n",
    "            features: array\n",
    "            y: array\n",
    "\n",
    "        '''\n",
    "        features, y = make_friedman1(n_samples=n_samples, \n",
    "                                    n_features=n_features, \n",
    "                                    noise=noise, \n",
    "                                    random_state=random_state)\n",
    "        if transformation=='identity':\n",
    "            pass\n",
    "        elif transformation == 'log':\n",
    "            y = np.log(y)\n",
    "             \n",
    "        elif transformation == 'sqrt':\n",
    "            y = np.sqrt(y)\n",
    "             \n",
    "        else:\n",
    "            raise ValueError('Transformation not implemented.')\n",
    "\n",
    "        return features, y"
   ]
  },
  {
   "cell_type": "code",
   "execution_count": 337,
   "metadata": {},
   "outputs": [],
   "source": [
    "import time"
   ]
  },
  {
   "cell_type": "code",
   "execution_count": 338,
   "metadata": {},
   "outputs": [],
   "source": [
    "\n",
    "def create_cont_folds(y, \n",
    "                          n_folds=5, \n",
    "                          n_groups=5, \n",
    "                          seed=1):\n",
    "        '''\n",
    "        Function to create continuous folds.\n",
    "        Inputs:\n",
    "            y: the target variable\n",
    "            n_folds: the number of folds\n",
    "            n_groups: the number of groups (based on quantiles)\n",
    "            seed: the seed to be used\n",
    "        Outputs:\n",
    "            cv_splits: the indices for the folds\n",
    "        '''\n",
    "        # create StratifiedKFold like for classification\n",
    "        skf = StratifiedKFold(n_splits=n_folds, shuffle=True, random_state=seed)\n",
    "\n",
    "        # create groups in y with pd.qcut: quantile-based discretization \n",
    "        y_grouped = pd.qcut(y, n_groups, labels=False)\n",
    "\n",
    "        # create fold numbers    \n",
    "        fold_nums = np.zeros(len(y))\n",
    "        #split(X, y[, groups]): Generate indices to split data into training and test set\n",
    "        for fold_no, (t, v) in enumerate(skf.split(y_grouped, y_grouped)): #@Nadja: unabhängig von n_folds? n_folds = fol_no, test_data_size = N/n_folds\n",
    "            fold_nums[v] = fold_no\n",
    "\n",
    "        cv_splits = []\n",
    "\n",
    "        # iterate over folds and creat train and test indices for each fold\n",
    "        for i in range(n_folds):\n",
    "            test_indices = np.argwhere(fold_nums==i).flatten()\n",
    "            train_indices = list(set(range(len(y_grouped))) - set(test_indices))\n",
    "            cv_splits.append((train_indices, test_indices))\n",
    "\n",
    "        return cv_splits\n",
    "\n",
    "def evaluate_rf(model, X_train, X_test, y_train, y_test):\n",
    "        '''\n",
    "        Function to evaluate the model.\n",
    "        Inputs:\n",
    "            model: the model to be evaluated\n",
    "            X_train, X_test, y_train, y_test: the train and test data\n",
    "        Outputs:\n",
    "            dictionary with the evaluation results (R2, MSE, MAE)\n",
    "        '''\n",
    "        model=model.best_estimator_\n",
    "        # @Anne: This somehow also does not work, do not know why.\n",
    "        #best_score = model.best_score_\n",
    "\n",
    "        train_r2, test_r2 = round(model.score(X_train, y_train), 4), round(model.score(X_test, y_test), 4)\n",
    "        y_train_pred, y_test_pred = model.predict(X_train), model.predict(X_test)\n",
    "        train_mse, test_mse = round(mean_squared_error(y_train, y_train_pred), 4), round(mean_squared_error(y_test, y_test_pred), 4)\n",
    "        train_mae, test_mae = round(mean_absolute_error(y_train, y_train_pred), 4), round(mean_absolute_error(y_test, y_test_pred), 4)\n",
    "        return {'train r2': train_r2, \n",
    "                'test r2': test_r2, \n",
    "                'train mse': train_mse,\n",
    "                'test mse': test_mse,\n",
    "                'train mae': train_mae,\n",
    "                'test mae': test_mae}\n",
    "        \n",
    "     \n",
    "def _convert_numpy_types(obj):\n",
    "        '''\n",
    "        Function to convert numpy types.\n",
    "        Inputs:\n",
    "            obj: the object to be converted\n",
    "        Outputs:\n",
    "            the converted object\n",
    "        '''\n",
    "        if isinstance(obj, np.ndarray):\n",
    "            return obj.tolist()\n",
    "        elif isinstance(obj, np.int32):\n",
    "            return int(obj)\n",
    "        elif isinstance(obj, np.int64):\n",
    "            return int(obj)\n",
    "        elif isinstance(obj, (list, tuple)):\n",
    "            return [_convert_numpy_types(item) for item in obj]\n",
    "        elif isinstance(obj, dict):\n",
    "            return {key: _convert_numpy_types(value) for key, value in obj.items()}\n",
    "        else:\n",
    "            return obj"
   ]
  },
  {
   "cell_type": "code",
   "execution_count": null,
   "metadata": {},
   "outputs": [],
   "source": []
  }
 ],
 "metadata": {
  "kernelspec": {
   "display_name": "slds",
   "language": "python",
   "name": "python3"
  },
  "language_info": {
   "codemirror_mode": {
    "name": "ipython",
    "version": 3
   },
   "file_extension": ".py",
   "mimetype": "text/x-python",
   "name": "python",
   "nbconvert_exporter": "python",
   "pygments_lexer": "ipython3",
   "version": "3.12.0"
  }
 },
 "nbformat": 4,
 "nbformat_minor": 2
}
