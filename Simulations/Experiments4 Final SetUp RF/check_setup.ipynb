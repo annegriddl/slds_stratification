{
 "cells": [
  {
   "cell_type": "code",
   "execution_count": 1,
   "metadata": {},
   "outputs": [],
   "source": [
    "import pandas as pd\n",
    "import numpy as np\n",
    "from sklearn.model_selection import cross_val_score, train_test_split, RandomizedSearchCV, KFold, StratifiedKFold\n",
    "from sklearn.ensemble import RandomForestRegressor\n",
    "from sklearn.metrics import mean_squared_error, mean_absolute_error\n",
    "from sklearn.datasets import make_friedman1\n",
    "from sklearn.model_selection import StratifiedKFold\n",
    "from sklearn.utils import shuffle\n",
    "import json\n",
    "from sklearn.dummy import DummyRegressor\n",
    "import seaborn as sns\n",
    "import matplotlib.pyplot as plt\n",
    "from mpl_toolkits.mplot3d import Axes3D\n",
    "import warnings\n",
    "warnings.filterwarnings('ignore')\n",
    "from utils import FriedmanDataset, run_kfold_visualizer, ModelOptimizerFinal "
   ]
  },
  {
   "cell_type": "code",
   "execution_count": 3,
   "metadata": {},
   "outputs": [],
   "source": [
    "# current date as string (for saving json)\n",
    "from datetime import date\n",
    "today = date.today().strftime(\"%d-%m-%Y\")\n",
    "today\n",
    "\n",
    "json_file = \"./results-RF-anne.json\" # set path to save json-file \n",
    "\n",
    "\n"
   ]
  },
  {
   "cell_type": "code",
   "execution_count": 26,
   "metadata": {},
   "outputs": [
    {
     "data": {
      "text/plain": [
       "{'model': 'RandomForestRegressor',\n",
       " 'n_train': 200,\n",
       " 'n_test': 100000,\n",
       " 'n_features': 10,\n",
       " 'FD_noise': 0,\n",
       " 'transformation': 'sqrt',\n",
       " 'n_groups': 20,\n",
       " 'n_folds': 5,\n",
       " 'n_iter': 200,\n",
       " 'n_repetitions': 10,\n",
       " 'scoring': 'neg_mean_squared_error',\n",
       " 'n_jobs': -1,\n",
       " 'json_file': './results-RF-anne.json'}"
      ]
     },
     "execution_count": 26,
     "metadata": {},
     "output_type": "execute_result"
    }
   ],
   "source": [
    "# Data Creation\n",
    "n_train= 200\n",
    "n_test= 100000\n",
    "n_features = 10\n",
    "FD_noise= 0\n",
    "transformation='sqrt'\n",
    "seed=567\n",
    "\n",
    "# Stratification\n",
    "n_groups = 20\n",
    "\n",
    "# RandomSearchCV\n",
    "n_folds = 5\n",
    "n_iter= 200\n",
    "n_repetitions= 10\n",
    "scoring= 'neg_mean_squared_error' #Metriken anschauen\n",
    "n_jobs= -1\n",
    "\n",
    "RF_param_grid = {\n",
    "    'min_samples_split': np.arange(2, 21),\n",
    "    'min_samples_leaf': np.arange(1, 21),\n",
    "    'max_features': np.arange(1, n_features + 1) #@nadja is that right?\n",
    "}\n",
    "\n",
    "# Initalize Model\n",
    "modelOptimizer = ModelOptimizerFinal(RandomForestRegressor(random_state=seed), \n",
    "                                RF_param_grid,\n",
    "                                random_state=seed)\n",
    "\n",
    "model = RandomForestRegressor(n_estimators=1000, random_state=seed) \n",
    "# Save Parameters in a dictionary\n",
    "params = {'model': modelOptimizer.model.__class__.__name__,\n",
    "          'n_train': n_train,\n",
    "          'n_test': n_test,\n",
    "          'n_features': n_features,\n",
    "          'FD_noise': FD_noise,\n",
    "          'transformation': transformation,\n",
    "          'n_groups': n_groups,\n",
    "          'n_folds': n_folds,\n",
    "          'n_iter': n_iter,\n",
    "          'n_repetitions': n_repetitions,\n",
    "          'scoring': scoring, \n",
    "          'n_jobs': n_jobs,\n",
    "          'json_file': json_file}\n",
    "params"
   ]
  },
  {
   "cell_type": "code",
   "execution_count": 20,
   "metadata": {},
   "outputs": [],
   "source": [
    "train = FriedmanDataset(n_samples=n_train, \n",
    "                            n_features=n_features, \n",
    "                            noise=FD_noise, \n",
    "                            random_state=seed)\n",
    "#train.transform(transformation=transformation)\n",
    "\n",
    "test = FriedmanDataset(n_samples=n_test,\n",
    "                           n_features=n_features,\n",
    "                           noise=FD_noise,\n",
    "                           random_state=seed)"
   ]
  },
  {
   "cell_type": "code",
   "execution_count": null,
   "metadata": {},
   "outputs": [],
   "source": [
    "unstratified_results, stratified_results = modelOptimizer.optimize(params#,\n",
    "                                                                   #random_states=random_states\n",
    "                                                                   )"
   ]
  },
  {
   "cell_type": "code",
   "execution_count": 27,
   "metadata": {},
   "outputs": [],
   "source": [
    "# get parameters from params dictionary\n",
    "n_train = params['n_train']\n",
    "n_test = params['n_test']\n",
    "n_features = params['n_features']\n",
    "noise = params['FD_noise']\n",
    "transformation = params['transformation']\n",
    "n_folds= params['n_folds']\n",
    "n_groups = params['n_groups']\n",
    "scoring = params['scoring']\n",
    "n_jobs = params['n_jobs']\n",
    "n_iter = params['n_iter']\n",
    "n_repetitions = params['n_repetitions']\n",
    "json_file = params['json_file']"
   ]
  },
  {
   "cell_type": "code",
   "execution_count": 129,
   "metadata": {},
   "outputs": [],
   "source": [
    "X_test, y_test = generate_friedman1(n_samples=n_test,\n",
    "                                                     n_features=n_features,\n",
    "                                                     noise=5,\n",
    "                                                     random_state=1718,\n",
    "                                                     transformation='sqrt')"
   ]
  },
  {
   "cell_type": "code",
   "execution_count": 130,
   "metadata": {},
   "outputs": [
    {
     "data": {
      "text/plain": [
       "array([3.10640523, 4.63792817, 4.48607413, ..., 1.78628304, 3.45557194,\n",
       "       4.6009606 ])"
      ]
     },
     "execution_count": 130,
     "metadata": {},
     "output_type": "execute_result"
    }
   ],
   "source": [
    "y_test"
   ]
  },
  {
   "cell_type": "code",
   "execution_count": 39,
   "metadata": {},
   "outputs": [],
   "source": [
    "import random"
   ]
  },
  {
   "cell_type": "code",
   "execution_count": 38,
   "metadata": {},
   "outputs": [],
   "source": [
    "random_states = None"
   ]
  },
  {
   "cell_type": "code",
   "execution_count": 40,
   "metadata": {},
   "outputs": [],
   "source": [
    "if not isinstance(random_states, list):\n",
    "    random.seed(seed)\n",
    "    random_states = random.sample(range(1, 10000), n_repetitions)"
   ]
  },
  {
   "cell_type": "code",
   "execution_count": 41,
   "metadata": {},
   "outputs": [
    {
     "data": {
      "text/plain": [
       "[2331, 5223, 7789, 1361, 9493, 4638, 7623, 6460, 479, 2661]"
      ]
     },
     "execution_count": 41,
     "metadata": {},
     "output_type": "execute_result"
    }
   ],
   "source": [
    "random_states"
   ]
  },
  {
   "cell_type": "code",
   "execution_count": 42,
   "metadata": {},
   "outputs": [],
   "source": [
    "all_results = {}\n",
    "all_results_stratified = {}"
   ]
  },
  {
   "cell_type": "code",
   "execution_count": 44,
   "metadata": {},
   "outputs": [
    {
     "data": {
      "text/plain": [
       "{'model_info': {'model': 'RandomForestRegressor',\n",
       "  'n_train': 200,\n",
       "  'n_test': 100000,\n",
       "  'n_features': 10,\n",
       "  'FD_noise': 0,\n",
       "  'transformation': 'sqrt',\n",
       "  'n_groups': 20,\n",
       "  'n_folds': 5,\n",
       "  'n_iter': 200,\n",
       "  'n_repetitions': 10,\n",
       "  'scoring': 'neg_mean_squared_error',\n",
       "  'n_jobs': -1,\n",
       "  'json_file': './results-RF-anne.json'},\n",
       " 'seed': 567}"
      ]
     },
     "execution_count": 44,
     "metadata": {},
     "output_type": "execute_result"
    }
   ],
   "source": [
    "initialization = {\n",
    "            'model_info': params,\n",
    "            'seed': seed\n",
    "        }\n",
    "initialization"
   ]
  },
  {
   "cell_type": "code",
   "execution_count": 48,
   "metadata": {},
   "outputs": [
    {
     "name": "stdout",
     "output_type": "stream",
     "text": [
      "0\n",
      "1\n",
      "2\n",
      "3\n",
      "4\n",
      "5\n",
      "6\n",
      "7\n",
      "8\n",
      "9\n"
     ]
    }
   ],
   "source": [
    "for repetition in range(n_repetitions):\n",
    "    print(repetition)\n",
    "\n",
    "repetition=0"
   ]
  },
  {
   "cell_type": "code",
   "execution_count": 131,
   "metadata": {},
   "outputs": [],
   "source": [
    "X_train, y_train = generate_friedman1(n_samples=n_train,\n",
    "                                                        n_features=n_features,\n",
    "                                                        noise=5,\n",
    "                                                        random_state=random_states[repetition],\n",
    "                                                        transformation='sqrt')"
   ]
  },
  {
   "cell_type": "code",
   "execution_count": 132,
   "metadata": {},
   "outputs": [
    {
     "data": {
      "text/plain": [
       "array([4.24480491, 3.75802221, 5.05028961, 4.33340671, 3.88975302,\n",
       "       4.97864666, 4.51332033, 4.53210509, 3.37281676, 1.40220202,\n",
       "       4.78256716, 3.94048031, 4.8109586 , 3.75746215, 3.48710167,\n",
       "       2.88312239, 3.64504473, 4.1192131 , 4.05030068, 3.99963594,\n",
       "       4.52933586,        nan, 3.41296582, 1.53978225, 3.64376994,\n",
       "       3.26448527, 3.78215468, 3.91556482, 4.48865919,        nan,\n",
       "       4.30224533, 5.25379081, 2.46112927, 4.62044858, 4.67913174,\n",
       "       3.11906829, 3.15229023, 3.66581649, 4.04009027, 4.489475  ,\n",
       "       4.61656701, 3.42522022, 3.82776742, 0.85874264, 3.72010053,\n",
       "       3.82286338, 2.35519664, 3.82535325, 3.49936724, 2.02979521,\n",
       "       4.52880907, 6.27966252, 2.63874066, 2.95221701, 4.48371754,\n",
       "       4.14363162, 3.60366544, 2.75491293, 4.68869887, 3.59156614,\n",
       "       4.36178895, 3.54202909, 3.64165355, 5.45734961,        nan,\n",
       "       2.82520916, 4.53953874, 4.41600386, 4.03357916, 2.80228078,\n",
       "       4.38403903, 4.21879338, 4.39115016, 3.58982041, 4.86677967,\n",
       "       3.03941045, 4.86678428, 5.05238206, 5.60700085, 1.5196569 ,\n",
       "       4.30103707, 4.61360756, 4.71877265, 5.04995503, 3.37907759,\n",
       "       4.23522113, 4.51026802, 3.54397515, 3.6068327 , 3.18549503,\n",
       "       4.95088237, 3.43306836, 4.02984714, 3.06393633, 5.01599689,\n",
       "       2.53233113, 3.95084542, 4.99486697, 5.44774231, 4.10428935,\n",
       "       3.99432367, 2.4915945 , 4.48318942, 3.97160724,        nan,\n",
       "       4.41526026, 3.8208068 , 4.08495359, 4.37939732, 3.83087813,\n",
       "       4.56552802, 2.78788012, 3.26267199, 3.77415589, 4.72859248,\n",
       "       1.39900253, 3.57125008, 4.18247461, 4.09321659, 2.69353665,\n",
       "       4.43163202, 4.37166946, 3.40222526, 4.43324713, 3.69309368,\n",
       "       2.79144972, 2.02300561, 4.59473025, 4.28054499, 3.18639613,\n",
       "       3.49168574, 2.73317423, 4.67335303, 3.07582438, 3.39354928,\n",
       "       3.51732706, 3.29032231, 3.08427223, 3.1524708 , 4.69000046,\n",
       "       2.32564441, 1.96492674, 5.25835011, 4.83899471, 3.59566182,\n",
       "       4.11996327, 3.96058449, 5.59186945, 2.97122016, 4.91109356,\n",
       "       4.68011499, 5.57037301, 3.2796263 , 5.29747402, 4.18811313,\n",
       "       3.15283563, 3.14463078, 2.83428439, 4.05194314, 4.07226526,\n",
       "       5.06642019, 4.66122947, 2.12371585, 3.43506045, 2.64625735,\n",
       "       4.76207548, 3.66323967, 3.08384215, 4.01063401, 2.69856905,\n",
       "       3.48651161, 4.28291051, 3.70411095,        nan, 4.03723883,\n",
       "       5.13325441, 2.21875986, 2.96170987, 4.26523215, 3.71042046,\n",
       "       4.00731889, 4.07505389, 5.16120214, 3.44324677, 4.65478579,\n",
       "       4.69208481,        nan, 3.11835041, 4.82779495, 3.03050766,\n",
       "       4.12970277, 4.07948674, 0.78253609, 4.26947   , 2.94061578,\n",
       "       3.37175422, 4.51119207, 4.84756588, 4.10972398, 4.07426666])"
      ]
     },
     "execution_count": 132,
     "metadata": {},
     "output_type": "execute_result"
    }
   ],
   "source": [
    "y_train"
   ]
  },
  {
   "cell_type": "code",
   "execution_count": 133,
   "metadata": {},
   "outputs": [
    {
     "data": {
      "text/plain": [
       "True"
      ]
     },
     "execution_count": 133,
     "metadata": {},
     "output_type": "execute_result"
    }
   ],
   "source": [
    "np.isnan(y_train).any()"
   ]
  },
  {
   "cell_type": "code",
   "execution_count": 135,
   "metadata": {},
   "outputs": [],
   "source": [
    "# Check for NaN values in the data\n",
    "            \n",
    "X_train, y_train = make_friedman1(n_samples=n_train,\n",
    "                                    n_features=n_features, \n",
    "                                    noise=noise, \n",
    "                                    random_state=random_states[repetition])\n",
    "X_test, y_test = make_friedman1(n_samples=n_test,\n",
    "                                    n_features=n_features,\n",
    "                                    noise=noise,\n",
    "                                    random_state=1718)\n",
    "min_val = min(y_train.min(), y_test.min())\n",
    "                # @Anne: Noch absprechen... +1 weil es sonst Skala durch Werte [0, 1] hauptsächlich bei y_test größer wird.           \n",
    "y_train = y_train + abs(min_val) + 1\n",
    "y_test = y_test + abs(min_val) + 1\n",
    "if transformation=='identity':\n",
    "    pass\n",
    "elif transformation == 'log':\n",
    "    y_train = np.log(y_train)\n",
    "    y_test = np.log(y_test)\n",
    "elif transformation == 'sqrt':\n",
    "    y_train = np.sqrt(y_train)\n",
    "    y_test = np.sqrt(y_test)"
   ]
  },
  {
   "cell_type": "code",
   "execution_count": 136,
   "metadata": {},
   "outputs": [
    {
     "data": {
      "text/plain": [
       "2.091313474404352"
      ]
     },
     "execution_count": 136,
     "metadata": {},
     "output_type": "execute_result"
    }
   ],
   "source": [
    "y_train.min()"
   ]
  },
  {
   "cell_type": "code",
   "execution_count": 137,
   "metadata": {},
   "outputs": [
    {
     "data": {
      "text/plain": [
       "1.380320768233755"
      ]
     },
     "execution_count": 137,
     "metadata": {},
     "output_type": "execute_result"
    }
   ],
   "source": [
    "y_test.min()"
   ]
  },
  {
   "cell_type": "code",
   "execution_count": 94,
   "metadata": {},
   "outputs": [
    {
     "data": {
      "text/plain": [
       "-12.55568832388697"
      ]
     },
     "execution_count": 94,
     "metadata": {},
     "output_type": "execute_result"
    }
   ],
   "source": [
    "min(y_train.min(), y_test.min())"
   ]
  },
  {
   "cell_type": "code",
   "execution_count": 95,
   "metadata": {},
   "outputs": [
    {
     "data": {
      "text/plain": [
       "12.65568832388697"
      ]
     },
     "execution_count": 95,
     "metadata": {},
     "output_type": "execute_result"
    }
   ],
   "source": [
    "abs(min(y_train.min(), y_test.min())-0.1)"
   ]
  },
  {
   "cell_type": "code",
   "execution_count": 92,
   "metadata": {},
   "outputs": [
    {
     "data": {
      "text/plain": [
       "0.09999999999999964"
      ]
     },
     "execution_count": 92,
     "metadata": {},
     "output_type": "execute_result"
    }
   ],
   "source": [
    "min(y_test + abs(min(y_train.min(), y_test.min())-0.1))"
   ]
  },
  {
   "cell_type": "code",
   "execution_count": 81,
   "metadata": {},
   "outputs": [],
   "source": [
    "import matplotlib.pyplot as plt\n",
    "import seaborn as sns"
   ]
  },
  {
   "cell_type": "code",
   "execution_count": 138,
   "metadata": {},
   "outputs": [
    {
     "name": "stdout",
     "output_type": "stream",
     "text": [
      "1.8605467590571614\n"
     ]
    },
    {
     "data": {
      "image/png": "[encoded data removed]",
      "text/plain": [
       "<Figure size 640x480 with 1 Axes>"
      ]
     },
     "metadata": {},
     "output_type": "display_data"
    }
   ],
   "source": [
    "sns.histplot(y_train, bins=50)\n",
    "print(min(np.sqrt(y_train+ abs(min(y_train.min(), y_test.min())-0.01))))"
   ]
  },
  {
   "cell_type": "code",
   "execution_count": 139,
   "metadata": {},
   "outputs": [
    {
     "name": "stdout",
     "output_type": "stream",
     "text": [
      "1.6585058144207727\n"
     ]
    },
    {
     "data": {
      "image/png": "[encoded data removed]",
      "text/plain": [
       "<Figure size 640x480 with 1 Axes>"
      ]
     },
     "metadata": {},
     "output_type": "display_data"
    }
   ],
   "source": [
    "sns.histplot(y_test, bins=50)\n",
    "print(min(np.sqrt(y_test+ abs(min(y_train.min(), y_test.min())-0.01))))"
   ]
  },
  {
   "cell_type": "code",
   "execution_count": 124,
   "metadata": {},
   "outputs": [
    {
     "data": {
      "text/plain": [
       "array([18.01836873, 14.12273089, 25.50542513, 18.77841373, 15.13017859,\n",
       "       24.78692252, 20.37006039, 20.53997651, 11.37589291,  1.96617052,\n",
       "       22.87294863, 15.52738508, 23.14532267, 14.11852183, 12.15987803,\n",
       "        8.31239474, 13.2863511 , 16.96791658, 16.40493557, 15.99708764,\n",
       "       20.51488334, -1.11065076, 11.6483357 ,  2.37092937, 13.27705938,\n",
       "       10.65686408, 14.30469402, 15.33164787, 20.14806135, -6.37651535,\n",
       "       18.50931487, 27.6023179 ,  6.05715729, 21.34854508, 21.89427388,\n",
       "        9.72858702,  9.9369337 , 13.43821056, 16.3223294 , 20.15538577,\n",
       "       21.31269092, 11.73213358, 14.65180339,  0.73743891, 13.83914792,\n",
       "       14.61428445,  5.5469512 , 14.63332747, 12.24557107,  4.12006861,\n",
       "       20.51011161, 39.43416137,  6.96295228,  8.71558525, 20.10372297,\n",
       "       17.16968298, 12.98640459,  7.58954524, 21.98389711, 12.89934735,\n",
       "       19.02520284, 12.54597005, 13.26164059, 29.78266476, -1.31898184,\n",
       "        7.98180679, 20.60741194, 19.50109011, 16.26976085,  7.8527776 ,\n",
       "       19.21979821, 17.79821756, 19.28219969, 12.88681056, 23.68554433,\n",
       "        9.23801587, 23.6855892 , 25.52656447, 31.43845853,  2.30935709,\n",
       "       18.49891989, 21.28537472, 22.26681528, 25.50204581, 11.41816538,\n",
       "       17.93709798, 20.34251757, 12.55975985, 13.00924215, 10.14737857,\n",
       "       24.51123626, 11.78595835, 16.23966794,  9.38770585, 25.16022482,\n",
       "        6.41270095, 15.60917957, 24.948696  , 29.67789631, 16.84519106,\n",
       "       15.95462158,  6.20804318, 20.0989874 , 15.7736641 , -1.59100416,\n",
       "       19.49452317, 14.59856461, 16.68684581, 19.17912085, 14.67562724,\n",
       "       20.84404611,  7.77227555, 10.64502854, 14.2442527 , 22.35958682,\n",
       "        1.95720809, 12.75382713, 17.49309385, 16.75442206,  7.25513966,\n",
       "       19.63936236, 19.11149388, 11.57513673, 19.65368007, 13.63894092,\n",
       "        7.79219157,  4.09255171, 21.11154609, 18.32306544, 10.15312027,\n",
       "       12.19186929,  7.47024137, 21.84022857,  9.46069564, 11.51617672,\n",
       "       12.37158966, 10.82622089,  9.5127352 ,  9.93807215, 21.99610436,\n",
       "        5.4086219 ,  3.86093711, 27.6502459 , 23.41586976, 12.92878394,\n",
       "       16.97409731, 15.68622948, 31.26900399,  8.82814922, 24.11884   ,\n",
       "       21.90347628, 31.02905545, 10.75594866, 28.06323098, 17.54029161,\n",
       "        9.94037249,  9.88870275,  8.03316802, 16.41824324, 16.58334435,\n",
       "       25.66861355, 21.72706018,  4.51016902, 11.79964029,  7.00267796,\n",
       "       22.67736288, 13.41932491,  9.51008238, 16.08518516,  7.2822749 ,\n",
       "       12.15576318, 18.34332244, 13.72043796, -3.64931859, 16.29929736,\n",
       "       26.3503008 ,  4.92289531,  8.77172533, 18.19220527, 13.76721997,\n",
       "       16.0586047 , 16.60606424, 26.63800756, 11.85594829, 21.66703076,\n",
       "       22.01565983, -5.96790905,  9.72410931, 23.30760411,  9.1839767 ,\n",
       "       17.05444498, 16.64221203,  0.61236274, 18.22837411,  8.64722115,\n",
       "       11.3687265 , 20.35085388, 23.498895  , 16.88983119, 16.59964879])"
      ]
     },
     "execution_count": 124,
     "metadata": {},
     "output_type": "execute_result"
    }
   ],
   "source": [
    "y_train"
   ]
  },
  {
   "cell_type": "code",
   "execution_count": 30,
   "metadata": {},
   "outputs": [],
   "source": [
    "def generate_friedman1(n_samples, n_features, noise, random_state, transformation='identity'):\n",
    "        '''\n",
    "        Function to generate dataset according to Friedman1.\n",
    "        Inputs:\n",
    "            n_samples: number of data points\n",
    "            n_features: number of features (have to be at least 5)\n",
    "            noise: The standard deviation of the gaussian noise applied to the output.\n",
    "            random_state: to repreoduce dataset\n",
    "        Outputs:\n",
    "            features: array\n",
    "            y: array\n",
    "\n",
    "        '''\n",
    "        features, y = make_friedman1(n_samples=n_samples, \n",
    "                                    n_features=n_features, \n",
    "                                    noise=noise, \n",
    "                                    random_state=random_state)\n",
    "        if transformation=='identity':\n",
    "            pass\n",
    "        elif transformation == 'log':\n",
    "            y = np.log(y)\n",
    "             \n",
    "        elif transformation == 'sqrt':\n",
    "            y = np.sqrt(y)\n",
    "             \n",
    "        else:\n",
    "            raise ValueError('Transformation not implemented.')\n",
    "\n",
    "        return features, y"
   ]
  },
  {
   "cell_type": "code",
   "execution_count": 45,
   "metadata": {},
   "outputs": [],
   "source": [
    "def _perform_optimization(model,\n",
    "                          param_grid,\n",
    "                              X_train, \n",
    "                              y_train, \n",
    "                              X_test, \n",
    "                              y_test, \n",
    "                              cv, \n",
    "                              n_groups, \n",
    "                              scoring, \n",
    "                              n_jobs, \n",
    "                              n_iter, \n",
    "                              random_state,\n",
    "                              stratified):\n",
    "        '''\n",
    "        Function to perform the optimization.\n",
    "        Inputs:\n",
    "            the same as in optimize function\n",
    "            stratified: whether to use stratified k-fold or not\n",
    "        Outputs:\n",
    "            evaluation_results: the evaluation results in a dictionary\n",
    "            best_params: the best parameters in a dictionary\n",
    "        '''\n",
    "        if stratified:\n",
    "            cv_splits = self.create_cont_folds(y_train, n_folds=cv, n_groups=n_groups)\n",
    "            output_text = 'Stratified Split Cross-validation'\n",
    "        else:\n",
    "            cv_splits = cv\n",
    "            output_text = 'Random Split Cross-validation'\n",
    "        \n",
    "        start_time = time.time()\n",
    "        random_search = RandomizedSearchCV(estimator=model,\n",
    "                                           param_distributions=param_grid,\n",
    "                                           n_iter=n_iter,\n",
    "                                           cv=cv_splits,\n",
    "                                           scoring=scoring,\n",
    "                                           n_jobs=n_jobs,\n",
    "                                           random_state=random_state)\n",
    "        random_search.fit(X_train, y_train)\n",
    "        end_time = time.time()\n",
    "        running_time = end_time - start_time\n",
    "        print(\"Best Parameters:\", random_search.best_params_)\n",
    "\n",
    "        # Evaluate the model\n",
    "        evaluation_results = self.evaluate_rf(random_search, X_train, X_test, y_train, y_test)\n",
    "        print(\"Evaluation Results of\", output_text, ': ', evaluation_results)\n",
    "        print('running_time: ', round(running_time/60, 2), ' min')\n",
    "        \n",
    "        return evaluation_results, random_search.best_params_, running_time\n",
    "\n",
    "def create_cont_folds(y, \n",
    "                          n_folds=5, \n",
    "                          n_groups=5, \n",
    "                          seed=1):\n",
    "        '''\n",
    "        Function to create continuous folds.\n",
    "        Inputs:\n",
    "            y: the target variable\n",
    "            n_folds: the number of folds\n",
    "            n_groups: the number of groups (based on quantiles)\n",
    "            seed: the seed to be used\n",
    "        Outputs:\n",
    "            cv_splits: the indices for the folds\n",
    "        '''\n",
    "        # create StratifiedKFold like for classification\n",
    "        skf = StratifiedKFold(n_splits=n_folds, shuffle=True, random_state=seed)\n",
    "\n",
    "        # create groups in y with pd.qcut: quantile-based discretization \n",
    "        y_grouped = pd.qcut(y, n_groups, labels=False)\n",
    "\n",
    "        # create fold numbers    \n",
    "        fold_nums = np.zeros(len(y))\n",
    "        #split(X, y[, groups]): Generate indices to split data into training and test set\n",
    "        for fold_no, (t, v) in enumerate(skf.split(y_grouped, y_grouped)): #@Nadja: unabhängig von n_folds? n_folds = fol_no, test_data_size = N/n_folds\n",
    "            fold_nums[v] = fold_no\n",
    "\n",
    "        cv_splits = []\n",
    "\n",
    "        # iterate over folds and creat train and test indices for each fold\n",
    "        for i in range(n_folds):\n",
    "            test_indices = np.argwhere(fold_nums==i).flatten()\n",
    "            train_indices = list(set(range(len(y_grouped))) - set(test_indices))\n",
    "            cv_splits.append((train_indices, test_indices))\n",
    "\n",
    "        return cv_splits\n",
    "\n",
    "def evaluate_rf(model, X_train, X_test, y_train, y_test):\n",
    "        '''\n",
    "        Function to evaluate the model.\n",
    "        Inputs:\n",
    "            model: the model to be evaluated\n",
    "            X_train, X_test, y_train, y_test: the train and test data\n",
    "        Outputs:\n",
    "            dictionary with the evaluation results (R2, MSE, MAE)\n",
    "        '''\n",
    "        model=model.best_estimator_\n",
    "        # @Anne: This somehow also does not work, do not know why.\n",
    "        #best_score = model.best_score_\n",
    "\n",
    "        train_r2, test_r2 = round(model.score(X_train, y_train), 4), round(model.score(X_test, y_test), 4)\n",
    "        y_train_pred, y_test_pred = model.predict(X_train), model.predict(X_test)\n",
    "        train_mse, test_mse = round(mean_squared_error(y_train, y_train_pred), 4), round(mean_squared_error(y_test, y_test_pred), 4)\n",
    "        train_mae, test_mae = round(mean_absolute_error(y_train, y_train_pred), 4), round(mean_absolute_error(y_test, y_test_pred), 4)\n",
    "        return {'train r2': train_r2, \n",
    "                'test r2': test_r2, \n",
    "                'train mse': train_mse,\n",
    "                'test mse': test_mse,\n",
    "                'train mae': train_mae,\n",
    "                'test mae': test_mae}\n",
    "        \n",
    "     \n",
    "def _convert_numpy_types(obj):\n",
    "        '''\n",
    "        Function to convert numpy types.\n",
    "        Inputs:\n",
    "            obj: the object to be converted\n",
    "        Outputs:\n",
    "            the converted object\n",
    "        '''\n",
    "        if isinstance(obj, np.ndarray):\n",
    "            return obj.tolist()\n",
    "        elif isinstance(obj, np.int32):\n",
    "            return int(obj)\n",
    "        elif isinstance(obj, np.int64):\n",
    "            return int(obj)\n",
    "        elif isinstance(obj, (list, tuple)):\n",
    "            return [_convert_numpy_types(item) for item in obj]\n",
    "        elif isinstance(obj, dict):\n",
    "            return {key: _convert_numpy_types(value) for key, value in obj.items()}\n",
    "        else:\n",
    "            return obj"
   ]
  },
  {
   "cell_type": "code",
   "execution_count": null,
   "metadata": {},
   "outputs": [],
   "source": []
  }
 ],
 "metadata": {
  "kernelspec": {
   "display_name": "slds",
   "language": "python",
   "name": "python3"
  },
  "language_info": {
   "codemirror_mode": {
    "name": "ipython",
    "version": 3
   },
   "file_extension": ".py",
   "mimetype": "text/x-python",
   "name": "python",
   "nbconvert_exporter": "python",
   "pygments_lexer": "ipython3",
   "version": "3.12.0"
  }
 },
 "nbformat": 4,
 "nbformat_minor": 2
}
