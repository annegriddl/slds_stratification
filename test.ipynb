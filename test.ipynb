{
 "cells": [
  {
   "cell_type": "markdown",
   "metadata": {},
   "source": [
    "#### First test with environments, packages etc."
   ]
  },
  {
   "cell_type": "code",
   "execution_count": 1,
   "metadata": {},
   "outputs": [
    {
     "data": {
      "text/plain": [
       "2"
      ]
     },
     "execution_count": 1,
     "metadata": {},
     "output_type": "execute_result"
    }
   ],
   "source": [
    "1+1"
   ]
  },
  {
   "cell_type": "code",
   "execution_count": 2,
   "metadata": {},
   "outputs": [
    {
     "name": "stdout",
     "output_type": "stream",
     "text": [
      "Hello World\n"
     ]
    }
   ],
   "source": [
    "print(\"Hello World\")"
   ]
  },
  {
   "cell_type": "markdown",
   "metadata": {},
   "source": [
    "Some packages should work like this:"
   ]
  },
  {
   "cell_type": "code",
   "execution_count": 3,
   "metadata": {},
   "outputs": [],
   "source": [
    "import os\n",
    "import sys\n",
    "import random"
   ]
  },
  {
   "cell_type": "markdown",
   "metadata": {},
   "source": [
    "Some packages have to be installed"
   ]
  },
  {
   "cell_type": "code",
   "execution_count": 4,
   "metadata": {},
   "outputs": [
    {
     "name": "stdout",
     "output_type": "stream",
     "text": [
      "['.git', 'README.md', 'requirements_local.txt', 'test.ipynb']\n"
     ]
    }
   ],
   "source": [
    "# Fill in the path where you downloaded the project or if the hole folder is open, leave it as it is. \n",
    "# Should print what in your folder is.\n",
    "ROOT_PATH = '.' # Replace with A3 directory path\n",
    "print(os.listdir(ROOT_PATH))"
   ]
  },
  {
   "cell_type": "code",
   "execution_count": 5,
   "metadata": {},
   "outputs": [
    {
     "name": "stdout",
     "output_type": "stream",
     "text": [
      "Collecting pandas==2.1.1 (from -r ./requirements_local.txt (line 1))\n",
      "  Using cached pandas-2.1.1-cp312-cp312-win_amd64.whl.metadata (18 kB)\n",
      "Collecting joblib==1.3.2 (from -r ./requirements_local.txt (line 2))\n",
      "  Using cached joblib-1.3.2-py3-none-any.whl.metadata (5.4 kB)\n",
      "Collecting tqdm==4.66.1 (from -r ./requirements_local.txt (line 3))\n",
      "  Using cached tqdm-4.66.1-py3-none-any.whl.metadata (57 kB)\n",
      "Collecting numpy==1.26.1 (from -r ./requirements_local.txt (line 4))\n",
      "  Using cached numpy-1.26.1-cp312-cp312-win_amd64.whl.metadata (61 kB)\n",
      "Collecting scikit-learn==1.3.2 (from -r ./requirements_local.txt (line 5))\n",
      "  Using cached scikit_learn-1.3.2-cp312-cp312-win_amd64.whl.metadata (11 kB)\n",
      "Collecting scipy==1.11.3 (from -r ./requirements_local.txt (line 6))\n",
      "  Using cached scipy-1.11.3-cp312-cp312-win_amd64.whl.metadata (60 kB)\n",
      "Requirement already satisfied: wheel==0.41.2 in c:\\users\\anneg\\miniconda3\\envs\\test_slds\\lib\\site-packages (from -r ./requirements_local.txt (line 7)) (0.41.2)\n",
      "Requirement already satisfied: python-dateutil>=2.8.2 in c:\\users\\anneg\\miniconda3\\envs\\test_slds\\lib\\site-packages (from pandas==2.1.1->-r ./requirements_local.txt (line 1)) (2.8.2)\n",
      "Collecting pytz>=2020.1 (from pandas==2.1.1->-r ./requirements_local.txt (line 1))\n",
      "  Using cached pytz-2023.3.post1-py2.py3-none-any.whl.metadata (22 kB)\n",
      "Collecting tzdata>=2022.1 (from pandas==2.1.1->-r ./requirements_local.txt (line 1))\n",
      "  Using cached tzdata-2023.3-py2.py3-none-any.whl (341 kB)\n",
      "Requirement already satisfied: colorama in c:\\users\\anneg\\miniconda3\\envs\\test_slds\\lib\\site-packages (from tqdm==4.66.1->-r ./requirements_local.txt (line 3)) (0.4.6)\n",
      "Collecting threadpoolctl>=2.0.0 (from scikit-learn==1.3.2->-r ./requirements_local.txt (line 5))\n",
      "  Using cached threadpoolctl-3.2.0-py3-none-any.whl.metadata (10.0 kB)\n",
      "Requirement already satisfied: six>=1.5 in c:\\users\\anneg\\miniconda3\\envs\\test_slds\\lib\\site-packages (from python-dateutil>=2.8.2->pandas==2.1.1->-r ./requirements_local.txt (line 1)) (1.16.0)\n",
      "Using cached pandas-2.1.1-cp312-cp312-win_amd64.whl (10.5 MB)\n",
      "Using cached joblib-1.3.2-py3-none-any.whl (302 kB)\n",
      "Using cached tqdm-4.66.1-py3-none-any.whl (78 kB)\n",
      "Using cached numpy-1.26.1-cp312-cp312-win_amd64.whl (15.5 MB)\n",
      "Using cached scikit_learn-1.3.2-cp312-cp312-win_amd64.whl (9.1 MB)\n",
      "Using cached scipy-1.11.3-cp312-cp312-win_amd64.whl (43.7 MB)\n",
      "Using cached pytz-2023.3.post1-py2.py3-none-any.whl (502 kB)\n",
      "Using cached threadpoolctl-3.2.0-py3-none-any.whl (15 kB)\n",
      "Installing collected packages: pytz, tzdata, tqdm, threadpoolctl, numpy, joblib, scipy, pandas, scikit-learn\n",
      "Successfully installed joblib-1.3.2 numpy-1.26.1 pandas-2.1.1 pytz-2023.3.post1 scikit-learn-1.3.2 scipy-1.11.3 threadpoolctl-3.2.0 tqdm-4.66.1 tzdata-2023.3\n",
      "Note: you may need to restart the kernel to use updated packages.\n"
     ]
    }
   ],
   "source": [
    "requirements = ROOT_PATH + \"/requirements_local.txt\"\n",
    "%pip install -r {requirements}"
   ]
  },
  {
   "cell_type": "code",
   "execution_count": 6,
   "metadata": {},
   "outputs": [],
   "source": [
    "import pandas as pd\n",
    "import numpy as np\n",
    "from tqdm import tqdm\n",
    "import sklearn"
   ]
  },
  {
   "cell_type": "code",
   "execution_count": null,
   "metadata": {},
   "outputs": [],
   "source": []
  }
 ],
 "metadata": {
  "kernelspec": {
   "display_name": "base",
   "language": "python",
   "name": "python3"
  },
  "language_info": {
   "codemirror_mode": {
    "name": "ipython",
    "version": 3
   },
   "file_extension": ".py",
   "mimetype": "text/x-python",
   "name": "python",
   "nbconvert_exporter": "python",
   "pygments_lexer": "ipython3",
   "version": "3.12.0"
  }
 },
 "nbformat": 4,
 "nbformat_minor": 2
}
